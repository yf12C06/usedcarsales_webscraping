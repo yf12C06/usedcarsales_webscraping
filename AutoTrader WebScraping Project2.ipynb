{
 "cells": [
  {
   "cell_type": "code",
   "execution_count": 1,
   "metadata": {},
   "outputs": [],
   "source": [
    "## Imports\n",
    "import pandas as pd\n",
    "import numpy as np\n",
    "import random\n",
    "\n",
    "import matplotlib.pyplot as plt\n",
    "%matplotlib inline"
   ]
  },
  {
   "cell_type": "code",
   "execution_count": 2,
   "metadata": {},
   "outputs": [],
   "source": [
    "data = pd.read_csv('autotrader_master_10182020.csv')"
   ]
  },
  {
   "cell_type": "code",
   "execution_count": 3,
   "metadata": {},
   "outputs": [
    {
     "data": {
      "text/plain": [
       "(11657, 15)"
      ]
     },
     "execution_count": 3,
     "metadata": {},
     "output_type": "execute_result"
    }
   ],
   "source": [
    "data.shape"
   ]
  },
  {
   "cell_type": "code",
   "execution_count": 4,
   "metadata": {},
   "outputs": [
    {
     "name": "stdout",
     "output_type": "stream",
     "text": [
      "<class 'pandas.core.frame.DataFrame'>\n",
      "RangeIndex: 11657 entries, 0 to 11656\n",
      "Data columns (total 15 columns):\n",
      " #   Column        Non-Null Count  Dtype  \n",
      "---  ------        --------------  -----  \n",
      " 0   Unnamed: 0    11657 non-null  int64  \n",
      " 1   year          11490 non-null  float64\n",
      " 2   make          11490 non-null  object \n",
      " 3   model         11657 non-null  object \n",
      " 4   adid          11657 non-null  int64  \n",
      " 5   price         11490 non-null  float64\n",
      " 6   mileage       11490 non-null  float64\n",
      " 7   location      11657 non-null  object \n",
      " 8   transmission  11490 non-null  object \n",
      " 9   drivetrain    11032 non-null  object \n",
      " 10  body_type     10695 non-null  object \n",
      " 11  colour        6296 non-null   object \n",
      " 12  fuel_economy  9580 non-null   float64\n",
      " 13  price_delta   9051 non-null   float64\n",
      " 14  more_less     11657 non-null  object \n",
      "dtypes: float64(5), int64(2), object(8)\n",
      "memory usage: 1.3+ MB\n"
     ]
    }
   ],
   "source": [
    "data.info()"
   ]
  },
  {
   "cell_type": "code",
   "execution_count": 5,
   "metadata": {},
   "outputs": [],
   "source": [
    "data.drop(['Unnamed: 0'], axis = 1, inplace = True)"
   ]
  },
  {
   "cell_type": "code",
   "execution_count": null,
   "metadata": {},
   "outputs": [],
   "source": [
    "data.head()"
   ]
  },
  {
   "cell_type": "code",
   "execution_count": 289,
   "metadata": {},
   "outputs": [],
   "source": [
    "## Clean mileage column to be ready to convert to int\n",
    "data['mileage'] = data['mileage'].replace(['Not',np.nan],data['mileage'].mean())\\\n",
    ".astype(int)"
   ]
  },
  {
   "cell_type": "code",
   "execution_count": 7,
   "metadata": {},
   "outputs": [],
   "source": [
    "## Create new column ['price_sugguest'] by using ['price','price_delta',more_less]\n",
    "\n",
    "# convert data['price_delta'] to int for further calculation\n",
    "data['price_delta'] = data['price_delta'].replace([np.nan,'missing'],0).astype(int)"
   ]
  },
  {
   "cell_type": "code",
   "execution_count": 8,
   "metadata": {},
   "outputs": [],
   "source": [
    "# use .loc[] to loop through all the rows\n",
    "\n",
    "for i in range(len(data)):\n",
    "    \n",
    "    if data.loc[i,'more_less'] == 'BELOW':\n",
    "        data.loc[i,'price_suggest'] = data.loc[i,'price'] \\\n",
    "                              + data.loc[i,'price_delta']\n",
    "    elif data.loc[i,'more_less'] == 'ABOVE':\n",
    "        data.loc[i,'price_suggest'] = data.loc[i,'price'] \\\n",
    "                              - data.loc[i,'price_delta']\n",
    "    else:\n",
    "        data.loc[i,'price_suggest'] = 'missing'"
   ]
  },
  {
   "cell_type": "code",
   "execution_count": 9,
   "metadata": {},
   "outputs": [
    {
     "data": {
      "text/plain": [
       "array(['Infiniti', 'Mercedes-Benz', 'Honda', 'Kia', 'Nissan', 'Dodge',\n",
       "       'Jeep', 'Audi', 'Ford', 'Chevrolet', 'Buick', 'Subaru', 'BMW',\n",
       "       'Mazda', 'Toyota', 'Fiat', 'Lincoln', 'Hyundai', 'Chrysler',\n",
       "       'Mitsubishi', 'Volkswagen', 'Lexus', 'Jaguar', 'Acura', 'Land',\n",
       "       'Ram', 'Porsche', 'GMC', 'Tesla', 'Volvo', 'MINI', 'Cadillac',\n",
       "       'Lamborghini', 'Scion', 'Aston', 'Maserati', 'Alfa', 'Genesis',\n",
       "       'smart', 'Ferrari', 'McLaren', 'Bentley', 'Rolls-Royce', nan,\n",
       "       'Hino'], dtype=object)"
      ]
     },
     "execution_count": 9,
     "metadata": {},
     "output_type": "execute_result"
    }
   ],
   "source": [
    "## Create new column ['continent'] to assign each make\n",
    "data['make'].unique()"
   ]
  },
  {
   "cell_type": "code",
   "execution_count": 10,
   "metadata": {},
   "outputs": [],
   "source": [
    "make_list = ['Infiniti', 'Mercedes-Benz', 'Honda', 'Kia', 'Nissan', 'Dodge',\n",
    "       'Jeep', 'Audi', 'Ford', 'Chevrolet', 'Buick', 'Subaru', 'BMW',\n",
    "       'Mazda', 'Toyota', 'Fiat', 'Lincoln', 'Hyundai', 'Chrysler',\n",
    "       'Mitsubishi', 'Volkswagen', 'Lexus', 'Jaguar', 'Acura', 'Land',\n",
    "       'Ram', 'Porsche', 'GMC', 'Tesla', 'Volvo', 'MINI', 'Cadillac',\n",
    "       'Lamborghini', 'Scion', 'Aston', 'Maserati', 'Alfa', 'Genesis',\n",
    "       'smart', 'Ferrari', 'McLaren', 'Bentley', 'Rolls-Royce', 'Hino']"
   ]
  },
  {
   "cell_type": "code",
   "execution_count": 11,
   "metadata": {},
   "outputs": [],
   "source": [
    "asia = ['Subaru','Nissan','Hyundai','Honda','Toyota','Kia','Lexus','Mazda','Scion','Acura','Infiniti','Mitsubishi','Genesis','Hino']\n",
    "\n",
    "america = ['Dodge','Ram','Ford','Jeep','Chevrolet','GMC','Tesla','Buick','Chrysler','Cadillac','Fiat','Lincoln']\n",
    "\n",
    "europe = ['Volkswagen','Audi','Land','Alfa','MINI', 'Jaguar','Porsche','Volvo','Mercedes-Benz', 'BMW', 'Ferrari','McLaren', 'Bentley', 'Aston', 'smart', 'Maserati', 'Rolls-Royce','Lamborghini']"
   ]
  },
  {
   "cell_type": "code",
   "execution_count": 12,
   "metadata": {},
   "outputs": [],
   "source": [
    "# iterate through each row\n",
    "for i in range(len(data)):\n",
    "    if data.loc[i,'make'] in asia:\n",
    "        data.loc[i,'continent'] = 'Asia'\n",
    "    elif data.loc[i,'make'] in america:\n",
    "        data.loc[i,'continent'] = 'America'\n",
    "    elif data.loc[i,'make'] in europe:\n",
    "        data.loc[i,'continent'] = 'Europe'\n",
    "    else:\n",
    "        data.loc[i,'continent'] = 'Else'"
   ]
  },
  {
   "cell_type": "code",
   "execution_count": 13,
   "metadata": {},
   "outputs": [],
   "source": [
    "## Create column ['price_ratio'] for further calculation\n",
    "for i in range(len(data)):\n",
    "    if data.loc[i,'price_suggest'] == 'missing':\n",
    "        data.loc[i,'price_ratio'] = 0\n",
    "    else:\n",
    "        data.loc[i,'price_ratio'] = (data.loc[i,'price']\\\n",
    "                   /data.loc[i,'price_suggest']).round(2)"
   ]
  },
  {
   "cell_type": "code",
   "execution_count": 229,
   "metadata": {},
   "outputs": [],
   "source": [
    "## Create column ['price_comment'] based on the ['price_ratio']\n",
    "\n",
    "# create a list of conditions\n",
    "conditions_pr = [\n",
    "    (data['price_ratio'] < 0.8)& (data['price_ratio'] > 0),\n",
    "    (data['price_ratio'] < 0.9) & (data['price_ratio'] >= 0.75),\n",
    "    (data['price_ratio'] < 1  ) & (data['price_ratio'] >= 0.9),\n",
    "    (data['price_ratio'] < 1.1) & (data['price_ratio'] >= 1),\n",
    "    (data['price_ratio'] < 1.17) & (data['price_ratio'] >=1.1),\n",
    "    (data['price_ratio'] >= 1.17 ),\n",
    "    (data['price_ratio'] == 0)\n",
    "]\n",
    "# create a list of comment\n",
    "values_comment = ['Excellent Deal!','Great Price','Good Price',\\\n",
    "                  'Fair Price','Above Average','Bad Deal','No Comparison']\n",
    "\n",
    "data['price_comment'] = np.select(conditions_pr,values_comment)"
   ]
  },
  {
   "cell_type": "code",
   "execution_count": 15,
   "metadata": {},
   "outputs": [
    {
     "data": {
      "text/plain": [
       "SUV            4581\n",
       "Sedan          3190\n",
       "Hatchback       899\n",
       "Truck           731\n",
       "Minivan         491\n",
       "Wagon           367\n",
       "Coupe           342\n",
       "Convertible      94\n",
       "Name: body_type, dtype: int64"
      ]
     },
     "execution_count": 15,
     "metadata": {},
     "output_type": "execute_result"
    }
   ],
   "source": [
    "data['body_type'].value_counts()"
   ]
  },
  {
   "cell_type": "code",
   "execution_count": 16,
   "metadata": {},
   "outputs": [],
   "source": [
    "## Merge wagon and hatchback into Sedan (They are technically Sedan anyway)\n",
    "data['body_type'] = data['body_type'].replace(['Hatchback','Wagon'],'Sedan')\n"
   ]
  },
  {
   "cell_type": "code",
   "execution_count": 189,
   "metadata": {},
   "outputs": [],
   "source": [
    "### These function will filter the dataframe for the make and body_type specified\n",
    "# and return a dataframe groupby the year and perform the mean() calculation\n",
    "def get_yearly_makebodytype(df, make, bodytype):\n",
    "    return df[(df['make'] == make) & (df['body_type'] == bodytype) & (df['year'] < 2020)]\\\n",
    "           .groupby('year').mean()\n",
    "\n",
    "def get_yearly_continentbodytype(df, continent, bodytype):\n",
    "    return df[(df['continent'] == continent) & (df['body_type'] == bodytype) & (df['year'] < 2020)]\\\n",
    "            .groupby('year').mean()\n",
    "\n",
    "def get_yearly_model(df, model):\n",
    "    return df[(df['model'] == model) & (df['year'] < 2020)].groupby('year').mean()"
   ]
  },
  {
   "cell_type": "code",
   "execution_count": 86,
   "metadata": {},
   "outputs": [],
   "source": [
    "## functions to remove outliers with IQR\n",
    "def outlier_filter(df, q =0.05):\n",
    "    upper = df.quantile(1-q)\n",
    "    lower = df.quantile(q)\n",
    "    mask = (df < upper) & (df > lower)\n",
    "    return mask"
   ]
  },
  {
   "cell_type": "code",
   "execution_count": 209,
   "metadata": {},
   "outputs": [],
   "source": [
    "### These function will filter the dataframe for the make and body_type specified\n",
    "# and return a dataframe groupby the year and perform the mean() calculation after IQR fiter\n",
    "def get_yearly_continentbodytype_IQR(df, continent, bodytype):\n",
    "    df_temp = df[(df['continent'] == continent) & (df['body_type'] == bodytype) & (df['year'] < 2020)]\n",
    "    mask = outlier_filter(df_temp['price'], 0.05)\n",
    "    return df_temp[mask].groupby('year').mean()\n",
    "\n",
    "\n",
    "def get_yearly_makebodytype_IQR(df, make, bodytype):\n",
    "    df_temp = df[(df['make'] == make) & (df['body_type'] == bodytype) & (df['year'] < 2020)]\n",
    "    mask = outlier_filter(df_temp['price'], 0.05)\n",
    "    return df_temp[mask].groupby('year').mean()\n",
    "\n",
    "def get_yearly_model_IQR(df, model):\n",
    "    df_temp = df[(df['model'] == model) & (df['year'] < 2020)]\n",
    "    mask = outlier_filter(df_temp['price'], 0.05)\n",
    "    return df_temp[mask].groupby('year').mean()"
   ]
  },
  {
   "cell_type": "code",
   "execution_count": 201,
   "metadata": {},
   "outputs": [],
   "source": [
    "Asiasedan_IQR = get_yearly_continentbodytype_IQR(data,'Asia','Sedan')\n",
    "Europesedan_IQR = get_yearly_continentbodytype_IQR(data,'Europe','Sedan')\n",
    "Americasedan_IQR = get_yearly_continentbodytype_IQR(data,'America','Sedan')"
   ]
  },
  {
   "cell_type": "code",
   "execution_count": 202,
   "metadata": {},
   "outputs": [],
   "source": [
    "Asiasedan = get_yearly_continentbodytype(data,'Asia','Sedan')\n",
    "Europesedan = get_yearly_continentbodytype(data,'Europe','Sedan')\n",
    "Americasedan = get_yearly_continentbodytype(data,'America','Sedan')"
   ]
  },
  {
   "cell_type": "code",
   "execution_count": 115,
   "metadata": {},
   "outputs": [
    {
     "data": {
      "text/plain": [
       "year\n",
       "2013.0     9988.0\n",
       "2014.0    10549.0\n",
       "2015.0    12887.5\n",
       "2016.0    14945.0\n",
       "2017.0    16910.5\n",
       "2018.0    18980.0\n",
       "2019.0    20940.5\n",
       "2020.0    20849.0\n",
       "2021.0    28477.0\n",
       "Name: price, dtype: float64"
      ]
     },
     "execution_count": 115,
     "metadata": {},
     "output_type": "execute_result"
    }
   ],
   "source": [
    "Asiasedan['price']"
   ]
  },
  {
   "cell_type": "code",
   "execution_count": 203,
   "metadata": {},
   "outputs": [
    {
     "data": {
      "image/png": "[encoded data removed]",
      "text/plain": [
       "<Figure size 432x288 with 1 Axes>"
      ]
     },
     "metadata": {
      "needs_background": "light"
     },
     "output_type": "display_data"
    }
   ],
   "source": [
    "combinesedan = pd.DataFrame({'Asia-Sedan':Asiasedan['price'], \\\n",
    "                           #  'Europe-Sedan':Europesedan['price'],\\\n",
    "                             'America-Sedan':Americasedan['price']})\n",
    "combinesedan.plot(kind = 'bar', width = 0.8, align = 'center', title = 'Sedan Average Price Over Year Raw Data');"
   ]
  },
  {
   "cell_type": "code",
   "execution_count": 247,
   "metadata": {},
   "outputs": [
    {
     "data": {
      "image/png": "[encoded data removed]",
      "text/plain": [
       "<Figure size 432x288 with 1 Axes>"
      ]
     },
     "metadata": {
      "needs_background": "light"
     },
     "output_type": "display_data"
    }
   ],
   "source": [
    "combinesedan_IQR = pd.DataFrame({'Asia-Sedan': Asiasedan_IQR['price'], \\\n",
    "                                # 'Europe-Sedan': Europesedan_IQR['price'],\\\n",
    "                                 'America-Sedan': Americasedan_IQR['price']})\n",
    "combinesedan_IQR.plot(kind = 'bar', width = 0.8, align = 'center', title = 'Sedan Average Price Over Year With IQR');"
   ]
  },
  {
   "cell_type": "code",
   "execution_count": 140,
   "metadata": {},
   "outputs": [],
   "source": [
    "def get_yearly_continentbodytype_IQR(df, continent, bodytype):\n",
    "    df_temp = df[(df['continent'] == continent) & (df['body_type'] == bodytype)]\n",
    "    mask = outlier_filter(df_temp['price'])\n",
    "    return df_temp[mask].groupby('year').mean()"
   ]
  },
  {
   "cell_type": "code",
   "execution_count": 267,
   "metadata": {},
   "outputs": [],
   "source": [
    "withIQRfilter = get_yearly_continentbodytype_IQR(data,'Asia','Sedan')['price']"
   ]
  },
  {
   "cell_type": "code",
   "execution_count": 268,
   "metadata": {},
   "outputs": [],
   "source": [
    "noIQRfilter = get_yearly_continentbodytype(data,'Asia','Sedan')['price']"
   ]
  },
  {
   "cell_type": "code",
   "execution_count": 269,
   "metadata": {},
   "outputs": [
    {
     "data": {
      "image/png": "[encoded data removed]",
      "text/plain": [
       "<Figure size 432x288 with 1 Axes>"
      ]
     },
     "metadata": {
      "needs_background": "light"
     },
     "output_type": "display_data"
    }
   ],
   "source": [
    "IQRcomparison = pd.DataFrame({'WithIQR':withIQRfilter, 'NoIQR': noIQRfilter})\n",
    "IQRcomparison.plot(kind = 'bar', width = 0.8, align = 'center');"
   ]
  },
  {
   "cell_type": "code",
   "execution_count": 145,
   "metadata": {},
   "outputs": [],
   "source": [
    "sedan2013 = Asiasedan_temp[Asiasedan_temp['year'] == 2013.0]['price']"
   ]
  },
  {
   "cell_type": "code",
   "execution_count": 146,
   "metadata": {},
   "outputs": [],
   "source": [
    "sedan2014 = Asiasedan_temp[Asiasedan_temp['year'] == 2014.0]['price']"
   ]
  },
  {
   "cell_type": "code",
   "execution_count": 150,
   "metadata": {
    "scrolled": true
   },
   "outputs": [
    {
     "data": {
      "image/png": "[encoded data removed]",
      "text/plain": [
       "<Figure size 432x288 with 1 Axes>"
      ]
     },
     "metadata": {
      "needs_background": "light"
     },
     "output_type": "display_data"
    }
   ],
   "source": [
    "plt.boxplot(sedan2013);"
   ]
  },
  {
   "cell_type": "code",
   "execution_count": 139,
   "metadata": {},
   "outputs": [
    {
     "data": {
      "text/plain": [
       "(array([23., 68., 38., 22.,  2.,  0.,  3.,  0.,  0.,  1.]),\n",
       " array([ 3700.,  7029., 10358., 13687., 17016., 20345., 23674., 27003.,\n",
       "        30332., 33661., 36990.]),\n",
       " <a list of 10 Patch objects>)"
      ]
     },
     "execution_count": 139,
     "metadata": {},
     "output_type": "execute_result"
    },
    {
     "data": {
      "image/png": "[encoded data removed]",
      "text/plain": [
       "<Figure size 432x288 with 1 Axes>"
      ]
     },
     "metadata": {
      "needs_background": "light"
     },
     "output_type": "display_data"
    }
   ],
   "source": [
    "plt.hist(sedan2013)"
   ]
  },
  {
   "cell_type": "code",
   "execution_count": 147,
   "metadata": {},
   "outputs": [
    {
     "data": {
      "text/plain": [
       "(array([26., 53., 45., 24.,  8.,  4.,  1.,  3.,  1.,  1.]),\n",
       " array([ 4800. ,  7518.8, 10237.6, 12956.4, 15675.2, 18394. , 21112.8,\n",
       "        23831.6, 26550.4, 29269.2, 31988. ]),\n",
       " <a list of 10 Patch objects>)"
      ]
     },
     "execution_count": 147,
     "metadata": {},
     "output_type": "execute_result"
    },
    {
     "data": {
      "image/png": "[encoded data removed]",
      "text/plain": [
       "<Figure size 432x288 with 1 Axes>"
      ]
     },
     "metadata": {
      "needs_background": "light"
     },
     "output_type": "display_data"
    }
   ],
   "source": [
    "plt.hist(sedan2014)"
   ]
  },
  {
   "cell_type": "code",
   "execution_count": 210,
   "metadata": {},
   "outputs": [],
   "source": [
    "Asiasuv = get_yearly_continentbodytype(data,'Asia','SUV')\n",
    "Europesuv = get_yearly_continentbodytype(data,'Europe','SUV')\n",
    "Americasuv = get_yearly_continentbodytype(data,'America','SUV')\n",
    "Asiasuv_IQR = get_yearly_continentbodytype_IQR(data,'Asia','SUV')\n",
    "Europesuv_IQR = get_yearly_continentbodytype_IQR(data,'Europe','SUV')\n",
    "Americasuv_IQR = get_yearly_continentbodytype_IQR(data,'America','SUV')"
   ]
  },
  {
   "cell_type": "code",
   "execution_count": 211,
   "metadata": {},
   "outputs": [
    {
     "data": {
      "image/png": "[encoded data removed]",
      "text/plain": [
       "<Figure size 432x288 with 1 Axes>"
      ]
     },
     "metadata": {
      "needs_background": "light"
     },
     "output_type": "display_data"
    }
   ],
   "source": [
    "suv_NoIQR = pd.DataFrame({'Asia-SUV':Asiasuv['price'], \\\n",
    "                          # 'Europe-SUV':Europesuv['price'],\\\n",
    "                           'America-SUV':Americasuv['price']})\n",
    "suv_NoIQR.plot(kind = 'bar', width = 0.8, align = 'center', title = 'SUV Average Price Over Year Raw Data');\n"
   ]
  },
  {
   "cell_type": "code",
   "execution_count": 212,
   "metadata": {},
   "outputs": [
    {
     "data": {
      "image/png": "[encoded data removed]",
      "text/plain": [
       "<Figure size 432x288 with 1 Axes>"
      ]
     },
     "metadata": {
      "needs_background": "light"
     },
     "output_type": "display_data"
    }
   ],
   "source": [
    "\n",
    "suv_WithIQR = pd.DataFrame({'Asia-SUV':Asiasuv_IQR['price'], \\\n",
    "                           'Europe-SUV':Europesuv_IQR['price'],\\\n",
    "                           'America-SUV':Americasuv_IQR['price']})\n",
    "suv_WithIQR.plot(kind = 'bar', width = 0.8, align = 'center', title = 'SUV Average Price Over Year Filtered IQR');"
   ]
  },
  {
   "cell_type": "code",
   "execution_count": 213,
   "metadata": {
    "scrolled": true
   },
   "outputs": [
    {
     "data": {
      "image/png": "[encoded data removed]",
      "text/plain": [
       "<Figure size 432x288 with 1 Axes>"
      ]
     },
     "metadata": {
      "needs_background": "light"
     },
     "output_type": "display_data"
    }
   ],
   "source": [
    "crv = get_yearly_model(data,'CR-V')\n",
    "rav4 = get_yearly_model(data,'RAV4')\n",
    "subcompactsuv = pd.DataFrame({'Honda CR-V':crv['price'],'Toyota RAV4':rav4['price']})\n",
    "subcompactsuv.plot(kind = 'bar', width = 0.8, align = 'center');"
   ]
  },
  {
   "cell_type": "code",
   "execution_count": 288,
   "metadata": {},
   "outputs": [
    {
     "data": {
      "image/png": "[encoded data removed]",
      "text/plain": [
       "<Figure size 432x288 with 1 Axes>"
      ]
     },
     "metadata": {
      "needs_background": "light"
     },
     "output_type": "display_data"
    }
   ],
   "source": [
    "crv_IQR = get_yearly_model_IQR(data,'CR-V')\n",
    "rav4_IQR = get_yearly_model_IQR(data,'RAV4')\n",
    "subcompactsuv_IQR = pd.DataFrame({'Honda CR-V':crv_IQR['price'],'Toyota RAV4':rav4_IQR['price']})\n",
    "subcompactsuv_IQR.plot(kind = 'bar', width = 0.8, align = 'center',color=['green', 'red']);"
   ]
  },
  {
   "cell_type": "code",
   "execution_count": 230,
   "metadata": {},
   "outputs": [
    {
     "data": {
      "text/plain": [
       "Good Price         4052\n",
       "Fair Price         2665\n",
       "No Comparison      2606\n",
       "Great Price        1434\n",
       "Above Average       654\n",
       "Excellent Deal!     126\n",
       "Bad Deal            120\n",
       "Name: price_comment, dtype: int64"
      ]
     },
     "execution_count": 230,
     "metadata": {},
     "output_type": "execute_result"
    }
   ],
   "source": [
    "data['price_comment'].value_counts()"
   ]
  },
  {
   "cell_type": "code",
   "execution_count": 260,
   "metadata": {},
   "outputs": [
    {
     "data": {
      "image/png": "[encoded data removed]",
      "text/plain": [
       "<Figure size 432x288 with 1 Axes>"
      ]
     },
     "metadata": {
      "needs_background": "light"
     },
     "output_type": "display_data"
    }
   ],
   "source": [
    "fig = plt.figure()\n",
    "axes = fig.add_axes([0,0,1,1])\n",
    "data['price_comment'].value_counts().plot(kind = 'barh', color = 'green');\n",
    "axes.set_xlabel('Number of Counts')\n",
    "axes.set_ylabel('Price Comment')\n",
    "axes.set_title('Price Comment Bar Diagram')\n",
    "axes.invert_yaxis();"
   ]
  },
  {
   "cell_type": "code",
   "execution_count": 266,
   "metadata": {},
   "outputs": [
    {
     "data": {
      "text/html": [
       "<div>\n",
       "<style scoped>\n",
       "    .dataframe tbody tr th:only-of-type {\n",
       "        vertical-align: middle;\n",
       "    }\n",
       "\n",
       "    .dataframe tbody tr th {\n",
       "        vertical-align: top;\n",
       "    }\n",
       "\n",
       "    .dataframe thead th {\n",
       "        text-align: right;\n",
       "    }\n",
       "</style>\n",
       "<table border=\"1\" class=\"dataframe\">\n",
       "  <thead>\n",
       "    <tr style=\"text-align: right;\">\n",
       "      <th></th>\n",
       "      <th>adid</th>\n",
       "      <th>year</th>\n",
       "      <th>make</th>\n",
       "      <th>model</th>\n",
       "      <th>price</th>\n",
       "      <th>price_delta</th>\n",
       "      <th>more_less</th>\n",
       "    </tr>\n",
       "  </thead>\n",
       "  <tbody>\n",
       "    <tr>\n",
       "      <th>0</th>\n",
       "      <td>49667893</td>\n",
       "      <td>2017.0</td>\n",
       "      <td>Infiniti</td>\n",
       "      <td>QX30</td>\n",
       "      <td>24788.0</td>\n",
       "      <td>1722</td>\n",
       "      <td>ABOVE</td>\n",
       "    </tr>\n",
       "    <tr>\n",
       "      <th>1</th>\n",
       "      <td>49666761</td>\n",
       "      <td>2014.0</td>\n",
       "      <td>Mercedes-Benz</td>\n",
       "      <td>C-Class</td>\n",
       "      <td>17498.0</td>\n",
       "      <td>694</td>\n",
       "      <td>BELOW</td>\n",
       "    </tr>\n",
       "    <tr>\n",
       "      <th>2</th>\n",
       "      <td>49647361</td>\n",
       "      <td>2016.0</td>\n",
       "      <td>Honda</td>\n",
       "      <td>Odyssey</td>\n",
       "      <td>27888.0</td>\n",
       "      <td>963</td>\n",
       "      <td>ABOVE</td>\n",
       "    </tr>\n",
       "    <tr>\n",
       "      <th>3</th>\n",
       "      <td>49676108</td>\n",
       "      <td>2015.0</td>\n",
       "      <td>Kia</td>\n",
       "      <td>Soul</td>\n",
       "      <td>13880.0</td>\n",
       "      <td>0</td>\n",
       "      <td>missing</td>\n",
       "    </tr>\n",
       "    <tr>\n",
       "      <th>4</th>\n",
       "      <td>49641921</td>\n",
       "      <td>2019.0</td>\n",
       "      <td>Honda</td>\n",
       "      <td>Civic</td>\n",
       "      <td>22395.0</td>\n",
       "      <td>847</td>\n",
       "      <td>BELOW</td>\n",
       "    </tr>\n",
       "    <tr>\n",
       "      <th>5</th>\n",
       "      <td>49674691</td>\n",
       "      <td>2018.0</td>\n",
       "      <td>Nissan</td>\n",
       "      <td>Rogue</td>\n",
       "      <td>19999.0</td>\n",
       "      <td>0</td>\n",
       "      <td>missing</td>\n",
       "    </tr>\n",
       "  </tbody>\n",
       "</table>\n",
       "</div>"
      ],
      "text/plain": [
       "       adid    year           make    model    price  price_delta more_less\n",
       "0  49667893  2017.0       Infiniti     QX30  24788.0         1722     ABOVE\n",
       "1  49666761  2014.0  Mercedes-Benz  C-Class  17498.0          694     BELOW\n",
       "2  49647361  2016.0          Honda  Odyssey  27888.0          963     ABOVE\n",
       "3  49676108  2015.0            Kia     Soul  13880.0            0   missing\n",
       "4  49641921  2019.0          Honda    Civic  22395.0          847     BELOW\n",
       "5  49674691  2018.0         Nissan    Rogue  19999.0            0   missing"
      ]
     },
     "execution_count": 266,
     "metadata": {},
     "output_type": "execute_result"
    }
   ],
   "source": [
    "data[['adid','year','make','model','price','price_delta','more_less']].head(6)"
   ]
  },
  {
   "cell_type": "code",
   "execution_count": null,
   "metadata": {},
   "outputs": [],
   "source": []
  },
  {
   "cell_type": "code",
   "execution_count": null,
   "metadata": {},
   "outputs": [],
   "source": []
  },
  {
   "cell_type": "code",
   "execution_count": null,
   "metadata": {},
   "outputs": [],
   "source": []
  },
  {
   "cell_type": "code",
   "execution_count": null,
   "metadata": {},
   "outputs": [],
   "source": []
  },
  {
   "cell_type": "code",
   "execution_count": null,
   "metadata": {},
   "outputs": [],
   "source": []
  },
  {
   "cell_type": "code",
   "execution_count": null,
   "metadata": {},
   "outputs": [],
   "source": []
  }
 ],
 "metadata": {
  "kernelspec": {
   "display_name": "Python 3",
   "language": "python",
   "name": "python3"
  },
  "language_info": {
   "codemirror_mode": {
    "name": "ipython",
    "version": 3
   },
   "file_extension": ".py",
   "mimetype": "text/x-python",
   "name": "python",
   "nbconvert_exporter": "python",
   "pygments_lexer": "ipython3",
   "version": "3.8.3"
  }
 },
 "nbformat": 4,
 "nbformat_minor": 4
}
