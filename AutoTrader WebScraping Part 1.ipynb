{
 "cells": [
  {
   "cell_type": "code",
   "execution_count": 1,
   "metadata": {},
   "outputs": [],
   "source": [
    "from bs4 import BeautifulSoup\n",
    "import urllib.request\n",
    "import re\n",
    "import requests\n",
    "import pandas as pd\n",
    "import numpy as np\n",
    "import random \n",
    "import time\n",
    "import matplotlib.pyplot as plt\n",
    "%matplotlib inline"
   ]
  },
  {
   "cell_type": "code",
   "execution_count": 3,
   "metadata": {},
   "outputs": [],
   "source": [
    "from selenium import webdriver\n",
    "from selenium.webdriver.common.keys import Keys\n",
    "from tqdm import tqdm_notebook"
   ]
  },
  {
   "cell_type": "code",
   "execution_count": 172,
   "metadata": {},
   "outputs": [
    {
     "name": "stderr",
     "output_type": "stream",
     "text": [
      "<ipython-input-172-c720e896fc00>:4: TqdmDeprecationWarning: This function will be removed in tqdm==5.0.0\n",
      "Please use `tqdm.notebook.tqdm` instead of `tqdm.tqdm_notebook`\n",
      "  for x in tqdm_notebook(range(180,240)):\n"
     ]
    },
    {
     "data": {
      "application/vnd.jupyter.widget-view+json": {
       "model_id": "2097dd6f6ae34a25ac380f13fb4981f1",
       "version_major": 2,
       "version_minor": 0
      },
      "text/plain": [
       "HBox(children=(FloatProgress(value=0.0, max=60.0), HTML(value='')))"
      ]
     },
     "metadata": {},
     "output_type": "display_data"
    },
    {
     "name": "stdout",
     "output_type": "stream",
     "text": [
      "\n"
     ]
    }
   ],
   "source": [
    "#create a new list for urls\n",
    "all_urls=[]\n",
    "#run through pages\n",
    "for x in tqdm_notebook(range(180,240)):\n",
    "    driver = webdriver.Chrome('./chromedriver.exe')\n",
    "    \n",
    "    #go to page x and get html\n",
    "    driver.get(f'https://www.autotrader.ca/cars/on/?rcp=100&rcs={x*100-100}&srt=9&yRng=2013%2C&prx=-2&prv=Ontario&loc=ontario&hprc=True&wcp=True&sts=Used&showcpo=1&adtype=Dealer&inMarket=advancedSearch')\n",
    "    html=driver.page_source\n",
    "    main_soup = BeautifulSoup(html,'lxml')\n",
    "    \n",
    "    #get all listing cards from current page\n",
    "    listing_details =main_soup.find_all('a',class_='result-title click')\n",
    "    \n",
    "    #get url from each listing card\n",
    "    for x in listing_details:\n",
    "        href=x['href']\n",
    "        #format the url\n",
    "        website=f'https://www.autotrader.ca/{href}'\n",
    "        all_urls.append(website)\n",
    "    \n",
    "    #close chrome driver to to avoid being banned\n",
    "    driver.close()\n",
    "   "
   ]
  },
  {
   "cell_type": "code",
   "execution_count": 174,
   "metadata": {},
   "outputs": [],
   "source": [
    "#remove duplicate urls\n",
    "all_urls=list(set(all_urls))"
   ]
  },
  {
   "cell_type": "code",
   "execution_count": 180,
   "metadata": {
    "scrolled": true
   },
   "outputs": [
    {
     "data": {
      "text/plain": [
       "3668"
      ]
     },
     "execution_count": 180,
     "metadata": {},
     "output_type": "execute_result"
    }
   ],
   "source": [
    "#check length\n",
    "len(all_urls)"
   ]
  },
  {
   "cell_type": "code",
   "execution_count": 177,
   "metadata": {},
   "outputs": [],
   "source": [
    "#write current list of url to disk as a '.txt' file with each line being a url\n",
    "with open('all_urls_page180-240.txt', 'w') as f:\n",
    "    for item in all_urls:\n",
    "        f.write(\"%s\\n\" % item)"
   ]
  },
  {
   "cell_type": "code",
   "execution_count": 178,
   "metadata": {},
   "outputs": [],
   "source": [
    "#in case read url is required\n",
    "with open('all_urls_page180-240.txt') as f:\n",
    "    new_urls = f.readlines()\n",
    "all_urls = new_urls.copy()"
   ]
  },
  {
   "cell_type": "code",
   "execution_count": 184,
   "metadata": {},
   "outputs": [
    {
     "name": "stderr",
     "output_type": "stream",
     "text": [
      "<ipython-input-184-3170a79dfd90>:4: TqdmDeprecationWarning: This function will be removed in tqdm==5.0.0\n",
      "Please use `tqdm.notebook.tqdm` instead of `tqdm.tqdm_notebook`\n",
      "  for url in tqdm_notebook(all_urls):\n"
     ]
    },
    {
     "data": {
      "application/vnd.jupyter.widget-view+json": {
       "model_id": "cba8bb4423f9491e8af40a5457e8e5ea",
       "version_major": 2,
       "version_minor": 0
      },
      "text/plain": [
       "HBox(children=(FloatProgress(value=0.0, max=3668.0), HTML(value='')))"
      ]
     },
     "metadata": {},
     "output_type": "display_data"
    },
    {
     "name": "stdout",
     "output_type": "stream",
     "text": [
      "\n"
     ]
    }
   ],
   "source": [
    "all_car_info=[]\n",
    "driver = webdriver.Chrome('./chromedriver.exe')\n",
    "\n",
    "for url in tqdm_notebook(all_urls):\n",
    "    driver.get(url)\n",
    "    time.sleep(0.5)\n",
    "    single_car_html=driver.page_source\n",
    "    single_car_soup = BeautifulSoup(single_car_html,'lxml')\n",
    "    \n",
    "    try:\n",
    "        ad_ids = url.split('/')[9].split('_')[1]\n",
    "    except:\n",
    "        ad_ids = 'missing'\n",
    "    try:\n",
    "        years = single_car_soup.find('p',class_='hero-title').get_text().split(' ')[0]\n",
    "    except:\n",
    "        years = 'missing'\n",
    "    try:\n",
    "        makes = single_car_soup.find('p',class_='hero-title').get_text().split(' ')[1]\n",
    "    except:\n",
    "        makes = 'missing'\n",
    "    try:\n",
    "        models = single_car_soup.find('p',class_='hero-title').get_text().split(' ')[2]\n",
    "    except:\n",
    "        models = 'missing'\n",
    "    try:\n",
    "        prices = single_car_soup.find('p',class_='hero-price').get_text().replace(',','')\n",
    "    except:\n",
    "        prices = 'missing'\n",
    "    try:\n",
    "        mileages = single_car_soup.find('p',id='vdp-hl-mileage').get_text().split(' ')[0].replace(',','')\n",
    "    except:\n",
    "        mileages = 'missing'\n",
    "    try:\n",
    "        locations = single_car_soup.find('p',class_='hero-location').get_text(strip = True).split('|')[1].replace(' ','')\n",
    "    except:\n",
    "        locations = 'missing'\n",
    "    try:\n",
    "        transmission=single_car_soup.find('p',id='vdp-hl-transmission').get_text()\n",
    "    except:\n",
    "        transmission='missing'\n",
    "    try:\n",
    "        drivetrain=single_car_soup.find('p',id='vdp-hl-drivetrain').get_text()\n",
    "    except:\n",
    "        drivetrain='missing'\n",
    "    try:\n",
    "        body_type=single_car_soup.find('span',id='spec-value-3').strong.get_text()\n",
    "    except:\n",
    "        body_type='missing'\n",
    "    try:\n",
    "        colour=single_car_soup.find('span',id='spec-value-9').strong.get_text()\n",
    "    except:\n",
    "        colour='missing'\n",
    "    try:\n",
    "        fuel_type=single_car_soup.find('span',id='spec-value-12').strong.get_text()\n",
    "    except:\n",
    "        fuel_type='missing'\n",
    "    try:\n",
    "        fuel_economy=single_car_soup.find('div',class_='fuel-value').get_text()\n",
    "    except:\n",
    "        fuel_economy='missing'\n",
    "    try:\n",
    "        price_deltas=single_car_soup.find('div',class_='hero-badge-wrapper').get_text()\\\n",
    "                    .split(' ')[0].split('$')[1].replace(',','')\n",
    "    except:\n",
    "        price_deltas = 'missing'\n",
    "    try:\n",
    "        moreless = single_car_soup.find('div',class_='hero-badge-wrapper').get_text()\\\n",
    "                   .split(' ')[1]\n",
    "    except:\n",
    "        moreless = 'missing'\n",
    "    \n",
    "    all_car_info.append({'year':years,\n",
    "                         'make':makes,\n",
    "                         'model':models,\n",
    "                         'adid':ad_ids,\n",
    "                         'price':prices,\n",
    "                         'mileage':mileages,\n",
    "                         'location':locations,\n",
    "                         'transmission':transmission,\n",
    "                         'drivetrain':drivetrain,\n",
    "                         'body_type':body_type,\n",
    "                         'colour':colour,\n",
    "                         'fuel_type':fuel_type,\n",
    "                         'fuel_economy':fuel_economy,\n",
    "                         'price_delta':price_deltas,\n",
    "                         'more_less':moreless\n",
    "                        })\n",
    "#Build a DataFrame \n",
    "df_scraped = pd.DataFrame(all_car_info) \n",
    "#Save the DataFrame to disk when it's done\n",
    "df_scraped.to_csv('autotrader_scraped_page180-240.csv', encoding='utf-8')"
   ]
  },
  {
   "cell_type": "code",
   "execution_count": 183,
   "metadata": {
    "scrolled": true
   },
   "outputs": [
    {
     "data": {
      "text/html": [
       "<div>\n",
       "<style scoped>\n",
       "    .dataframe tbody tr th:only-of-type {\n",
       "        vertical-align: middle;\n",
       "    }\n",
       "\n",
       "    .dataframe tbody tr th {\n",
       "        vertical-align: top;\n",
       "    }\n",
       "\n",
       "    .dataframe thead th {\n",
       "        text-align: right;\n",
       "    }\n",
       "</style>\n",
       "<table border=\"1\" class=\"dataframe\">\n",
       "  <thead>\n",
       "    <tr style=\"text-align: right;\">\n",
       "      <th></th>\n",
       "      <th>year</th>\n",
       "      <th>make</th>\n",
       "      <th>model</th>\n",
       "      <th>adid</th>\n",
       "      <th>price</th>\n",
       "      <th>mileage</th>\n",
       "      <th>location</th>\n",
       "      <th>transmission</th>\n",
       "      <th>drivetrain</th>\n",
       "      <th>body_type</th>\n",
       "      <th>colour</th>\n",
       "      <th>fuel_type</th>\n",
       "      <th>fuel_economy</th>\n",
       "      <th>price_delta</th>\n",
       "      <th>more_less</th>\n",
       "    </tr>\n",
       "  </thead>\n",
       "  <tbody>\n",
       "    <tr>\n",
       "      <th>0</th>\n",
       "      <td>2018</td>\n",
       "      <td>Chevrolet</td>\n",
       "      <td>Equinox</td>\n",
       "      <td>49463063</td>\n",
       "      <td>28995</td>\n",
       "      <td>27331</td>\n",
       "      <td>Napanee</td>\n",
       "      <td>6 Speed Automatic</td>\n",
       "      <td>AWD</td>\n",
       "      <td>SUV</td>\n",
       "      <td>Cajun Red Tintcoat</td>\n",
       "      <td>9.8L/100km</td>\n",
       "      <td>8.9</td>\n",
       "      <td>884</td>\n",
       "      <td>BELOW</td>\n",
       "    </tr>\n",
       "    <tr>\n",
       "      <th>1</th>\n",
       "      <td>2020</td>\n",
       "      <td>Honda</td>\n",
       "      <td>Accord</td>\n",
       "      <td>49496947</td>\n",
       "      <td>39995</td>\n",
       "      <td>1264</td>\n",
       "      <td>Stouffville</td>\n",
       "      <td>10 Speed Automatic</td>\n",
       "      <td>FWD</td>\n",
       "      <td>Sedan</td>\n",
       "      <td>Red</td>\n",
       "      <td>Gas</td>\n",
       "      <td>9.0</td>\n",
       "      <td>1021</td>\n",
       "      <td>BELOW</td>\n",
       "    </tr>\n",
       "    <tr>\n",
       "      <th>2</th>\n",
       "      <td>2014</td>\n",
       "      <td>Honda</td>\n",
       "      <td>Odyssey</td>\n",
       "      <td>49477216</td>\n",
       "      <td>18887</td>\n",
       "      <td>111883</td>\n",
       "      <td>Kitchener</td>\n",
       "      <td>Automatic</td>\n",
       "      <td>FWD</td>\n",
       "      <td>Minivan</td>\n",
       "      <td>Grey</td>\n",
       "      <td>Gas</td>\n",
       "      <td>9.2</td>\n",
       "      <td>missing</td>\n",
       "      <td>missing</td>\n",
       "    </tr>\n",
       "    <tr>\n",
       "      <th>3</th>\n",
       "      <td>2016</td>\n",
       "      <td>Dodge</td>\n",
       "      <td>Journey</td>\n",
       "      <td>49464876</td>\n",
       "      <td>15495</td>\n",
       "      <td>97141</td>\n",
       "      <td>Exeter</td>\n",
       "      <td>4 Speed Automatic</td>\n",
       "      <td>FWD</td>\n",
       "      <td>SUV</td>\n",
       "      <td>Granite Crystal Metallic</td>\n",
       "      <td>12.7L - 14.2L/100km</td>\n",
       "      <td>11.6</td>\n",
       "      <td>998</td>\n",
       "      <td>BELOW</td>\n",
       "    </tr>\n",
       "    <tr>\n",
       "      <th>4</th>\n",
       "      <td>2016</td>\n",
       "      <td>Land</td>\n",
       "      <td>Rover</td>\n",
       "      <td>49499447</td>\n",
       "      <td>54888</td>\n",
       "      <td>100357</td>\n",
       "      <td>Waterloo</td>\n",
       "      <td>8 Speed Automatic</td>\n",
       "      <td>4x4</td>\n",
       "      <td>5.0L 8cyl</td>\n",
       "      <td>Black</td>\n",
       "      <td>missing</td>\n",
       "      <td>missing</td>\n",
       "      <td>10518</td>\n",
       "      <td>BELOW</td>\n",
       "    </tr>\n",
       "  </tbody>\n",
       "</table>\n",
       "</div>"
      ],
      "text/plain": [
       "   year       make    model      adid  price mileage     location  \\\n",
       "0  2018  Chevrolet  Equinox  49463063  28995   27331      Napanee   \n",
       "1  2020      Honda   Accord  49496947  39995    1264  Stouffville   \n",
       "2  2014      Honda  Odyssey  49477216  18887  111883    Kitchener   \n",
       "3  2016      Dodge  Journey  49464876  15495   97141       Exeter   \n",
       "4  2016       Land    Rover  49499447  54888  100357     Waterloo   \n",
       "\n",
       "         transmission drivetrain  body_type                    colour  \\\n",
       "0   6 Speed Automatic        AWD        SUV        Cajun Red Tintcoat   \n",
       "1  10 Speed Automatic        FWD      Sedan                       Red   \n",
       "2           Automatic        FWD    Minivan                      Grey   \n",
       "3   4 Speed Automatic        FWD        SUV  Granite Crystal Metallic   \n",
       "4   8 Speed Automatic        4x4  5.0L 8cyl                     Black   \n",
       "\n",
       "             fuel_type fuel_economy price_delta more_less  \n",
       "0           9.8L/100km          8.9         884     BELOW  \n",
       "1                  Gas          9.0        1021     BELOW  \n",
       "2                  Gas          9.2     missing   missing  \n",
       "3  12.7L - 14.2L/100km         11.6         998     BELOW  \n",
       "4              missing      missing       10518     BELOW  "
      ]
     },
     "execution_count": 183,
     "metadata": {},
     "output_type": "execute_result"
    }
   ],
   "source": [
    "#Quickly check the data scraped\n",
    "df_scraped = pd.DataFrame(all_car_info)         \n",
    "df_scraped.head(20)"
   ]
  },
  {
   "cell_type": "code",
   "execution_count": null,
   "metadata": {},
   "outputs": [],
   "source": [
    "df_scraped.to_csv('autotrader_scraped_page180-240.csv', encoding='utf-8')"
   ]
  },
  {
   "cell_type": "code",
   "execution_count": null,
   "metadata": {},
   "outputs": [],
   "source": []
  },
  {
   "cell_type": "code",
   "execution_count": null,
   "metadata": {},
   "outputs": [],
   "source": []
  },
  {
   "cell_type": "markdown",
   "metadata": {},
   "source": [
    "### Combine Tables\n"
   ]
  },
  {
   "cell_type": "code",
   "execution_count": 409,
   "metadata": {},
   "outputs": [],
   "source": [
    "with open('all_urls_page40-79.txt') as f:\n",
    "    new_urls = f.readlines()\n",
    "all_urls_page40_79 = new_urls.copy()\n",
    "\n",
    "with open('all_urls_page120-159.txt') as f:\n",
    "    new_urls = f.readlines()\n",
    "all_urls_page120_159 = new_urls.copy()\n",
    "\n"
   ]
  },
  {
   "cell_type": "code",
   "execution_count": 271,
   "metadata": {},
   "outputs": [],
   "source": [
    "df1_page40_79 = pd.read_csv('autotrader_scraped_page40-79.csv')\n",
    "df1_page120_159 = pd.read_csv('autotrader_scraped_page120-159.csv')\n",
    "df1_page180_240= pd.read_csv('autotrader_scraped_page180-240.csv')"
   ]
  },
  {
   "cell_type": "code",
   "execution_count": 189,
   "metadata": {},
   "outputs": [],
   "source": [
    "#insert ad ids from url list\n",
    "df1_page40_79['adid']=[row.split('/')[9].split('_')[1] for row in all_urls_page40_79]\n",
    "df1_page120_159['adid']=[row.split('/')[9].split('_')[1] for row in all_urls_page120_159]"
   ]
  },
  {
   "cell_type": "code",
   "execution_count": 297,
   "metadata": {},
   "outputs": [],
   "source": [
    "df1_page40_79.to_csv('autotrader_scraped_page40-79.csv', encoding='utf-8')\n",
    "df1_page120_159.to_csv('autotrader_scraped_page120-159.csv', encoding='utf-8')"
   ]
  },
  {
   "cell_type": "code",
   "execution_count": 410,
   "metadata": {},
   "outputs": [],
   "source": [
    "#concate tables\n",
    "df1 = pd.concat([df1_page40_79, df1_page120_159,df1_page180_240])"
   ]
  },
  {
   "cell_type": "code",
   "execution_count": 412,
   "metadata": {},
   "outputs": [],
   "source": [
    "#Drop Index\n",
    "df1.reset_index(drop=True, inplace=True)"
   ]
  },
  {
   "cell_type": "code",
   "execution_count": 417,
   "metadata": {},
   "outputs": [
    {
     "data": {
      "text/html": [
       "<div>\n",
       "<style scoped>\n",
       "    .dataframe tbody tr th:only-of-type {\n",
       "        vertical-align: middle;\n",
       "    }\n",
       "\n",
       "    .dataframe tbody tr th {\n",
       "        vertical-align: top;\n",
       "    }\n",
       "\n",
       "    .dataframe thead th {\n",
       "        text-align: right;\n",
       "    }\n",
       "</style>\n",
       "<table border=\"1\" class=\"dataframe\">\n",
       "  <thead>\n",
       "    <tr style=\"text-align: right;\">\n",
       "      <th></th>\n",
       "      <th>year</th>\n",
       "      <th>make</th>\n",
       "      <th>model</th>\n",
       "      <th>adid</th>\n",
       "      <th>price</th>\n",
       "      <th>mileage</th>\n",
       "      <th>location</th>\n",
       "      <th>transmission</th>\n",
       "      <th>drivetrain</th>\n",
       "      <th>body_type</th>\n",
       "      <th>colour</th>\n",
       "      <th>fuel_economy</th>\n",
       "      <th>price_delta</th>\n",
       "      <th>more_less</th>\n",
       "    </tr>\n",
       "  </thead>\n",
       "  <tbody>\n",
       "    <tr>\n",
       "      <th>0</th>\n",
       "      <td>2017</td>\n",
       "      <td>Infiniti</td>\n",
       "      <td>QX30</td>\n",
       "      <td>49667893</td>\n",
       "      <td>24788.0</td>\n",
       "      <td>34313</td>\n",
       "      <td>Thornhill</td>\n",
       "      <td>7 Speed Automatic</td>\n",
       "      <td>FWD</td>\n",
       "      <td>Wagon</td>\n",
       "      <td>Gas</td>\n",
       "      <td>8.5</td>\n",
       "      <td>1722.0</td>\n",
       "      <td>ABOVE</td>\n",
       "    </tr>\n",
       "    <tr>\n",
       "      <th>1</th>\n",
       "      <td>2014</td>\n",
       "      <td>Mercedes-Benz</td>\n",
       "      <td>C-Class</td>\n",
       "      <td>49666761</td>\n",
       "      <td>17498.0</td>\n",
       "      <td>82109</td>\n",
       "      <td>Kitchener</td>\n",
       "      <td>7 Speed Automatic</td>\n",
       "      <td>AWD</td>\n",
       "      <td>Sedan</td>\n",
       "      <td>Black</td>\n",
       "      <td>NaN</td>\n",
       "      <td>694.0</td>\n",
       "      <td>BELOW</td>\n",
       "    </tr>\n",
       "    <tr>\n",
       "      <th>2</th>\n",
       "      <td>2016</td>\n",
       "      <td>Honda</td>\n",
       "      <td>Odyssey</td>\n",
       "      <td>49647361</td>\n",
       "      <td>27888.0</td>\n",
       "      <td>55919</td>\n",
       "      <td>Concord</td>\n",
       "      <td>Automatic</td>\n",
       "      <td>FWD</td>\n",
       "      <td>Minivan</td>\n",
       "      <td>Obsidian Blue Pearl</td>\n",
       "      <td>10.6</td>\n",
       "      <td>963.0</td>\n",
       "      <td>ABOVE</td>\n",
       "    </tr>\n",
       "    <tr>\n",
       "      <th>3</th>\n",
       "      <td>2015</td>\n",
       "      <td>Kia</td>\n",
       "      <td>Soul</td>\n",
       "      <td>49676108</td>\n",
       "      <td>13880.0</td>\n",
       "      <td>81240</td>\n",
       "      <td>Toronto</td>\n",
       "      <td>6 Speed Automatic</td>\n",
       "      <td>FWD</td>\n",
       "      <td>Hatchback</td>\n",
       "      <td>Grey</td>\n",
       "      <td>9.0</td>\n",
       "      <td>NaN</td>\n",
       "      <td>missing</td>\n",
       "    </tr>\n",
       "    <tr>\n",
       "      <th>4</th>\n",
       "      <td>2019</td>\n",
       "      <td>Honda</td>\n",
       "      <td>Civic</td>\n",
       "      <td>49641921</td>\n",
       "      <td>22395.0</td>\n",
       "      <td>34128</td>\n",
       "      <td>Toronto</td>\n",
       "      <td>CVT</td>\n",
       "      <td>FWD</td>\n",
       "      <td>Sedan</td>\n",
       "      <td>Crystal Black Pearl</td>\n",
       "      <td>7.1</td>\n",
       "      <td>847.0</td>\n",
       "      <td>BELOW</td>\n",
       "    </tr>\n",
       "  </tbody>\n",
       "</table>\n",
       "</div>"
      ],
      "text/plain": [
       "   year           make    model      adid    price mileage   location  \\\n",
       "0  2017       Infiniti     QX30  49667893  24788.0   34313  Thornhill   \n",
       "1  2014  Mercedes-Benz  C-Class  49666761  17498.0   82109  Kitchener   \n",
       "2  2016          Honda  Odyssey  49647361  27888.0   55919    Concord   \n",
       "3  2015            Kia     Soul  49676108  13880.0   81240    Toronto   \n",
       "4  2019          Honda    Civic  49641921  22395.0   34128    Toronto   \n",
       "\n",
       "        transmission drivetrain  body_type               colour  fuel_economy  \\\n",
       "0  7 Speed Automatic        FWD      Wagon                  Gas           8.5   \n",
       "1  7 Speed Automatic        AWD      Sedan                Black           NaN   \n",
       "2          Automatic        FWD    Minivan  Obsidian Blue Pearl          10.6   \n",
       "3  6 Speed Automatic        FWD  Hatchback                 Grey           9.0   \n",
       "4                CVT        FWD      Sedan  Crystal Black Pearl           7.1   \n",
       "\n",
       "   price_delta more_less  \n",
       "0       1722.0     ABOVE  \n",
       "1        694.0     BELOW  \n",
       "2        963.0     ABOVE  \n",
       "3          NaN   missing  \n",
       "4        847.0     BELOW  "
      ]
     },
     "execution_count": 417,
     "metadata": {},
     "output_type": "execute_result"
    }
   ],
   "source": [
    "df1.head()"
   ]
  },
  {
   "cell_type": "code",
   "execution_count": null,
   "metadata": {},
   "outputs": [],
   "source": [
    "#Fix/replace the index\n",
    "df1.drop(['Unnamed: 0'], axis=1, inplace=True)\n",
    "df1.drop(['Unnamed: 0.1'], axis=1, inplace=True)\n",
    "df1.drop(['fuel_type'], axis=1, inplace=True)\n",
    "df1.drop_duplicates(subset=['adid'],inplace=True)"
   ]
  },
  {
   "cell_type": "code",
   "execution_count": 566,
   "metadata": {},
   "outputs": [],
   "source": [
    "# Save a copy of combined table\n",
    "df1.to_csv('autotrader_scraped10182020.csv', encoding='utf-8')"
   ]
  },
  {
   "cell_type": "code",
   "execution_count": 2,
   "metadata": {},
   "outputs": [],
   "source": [
    "df1= pd.read_csv('autotrader_scraped10182020.csv',index_col=0)"
   ]
  },
  {
   "cell_type": "code",
   "execution_count": null,
   "metadata": {},
   "outputs": [],
   "source": [
    "#Reassign index\n",
    "df1.index = range(len(df1.index))"
   ]
  },
  {
   "cell_type": "code",
   "execution_count": 5,
   "metadata": {},
   "outputs": [
    {
     "data": {
      "text/plain": [
       "(11657, 14)"
      ]
     },
     "execution_count": 5,
     "metadata": {},
     "output_type": "execute_result"
    }
   ],
   "source": [
    "df1.shape"
   ]
  },
  {
   "cell_type": "code",
   "execution_count": 6,
   "metadata": {},
   "outputs": [
    {
     "data": {
      "text/plain": [
       "11657"
      ]
     },
     "execution_count": 6,
     "metadata": {},
     "output_type": "execute_result"
    }
   ],
   "source": [
    "df1['adid'].nunique()"
   ]
  },
  {
   "cell_type": "code",
   "execution_count": 514,
   "metadata": {},
   "outputs": [],
   "source": [
    "df1['make']=df1['make'].astype(str)\n",
    "df1['model']=df1['model'].astype(str)\n",
    "df1['location']=df1['location'].astype(str)\n",
    "df1['transmission']=df1['transmission'].astype(str)\n",
    "df1['drivetrain']=df1['drivetrain'].astype(str)\n",
    "df1['body_type']=df1['body_type'].astype(str)\n",
    "df1['colour']=df1['colour'].astype(str)\n",
    "df1['more_less']=df1['more_less'].astype(str)\n",
    "df1['mileage']=df1['mileage'].astype(float)"
   ]
  },
  {
   "cell_type": "code",
   "execution_count": 573,
   "metadata": {
    "scrolled": false
   },
   "outputs": [
    {
     "name": "stdout",
     "output_type": "stream",
     "text": [
      "<class 'pandas.core.frame.DataFrame'>\n",
      "Int64Index: 11657 entries, 0 to 11656\n",
      "Data columns (total 14 columns):\n",
      " #   Column        Non-Null Count  Dtype  \n",
      "---  ------        --------------  -----  \n",
      " 0   year          11490 non-null  float64\n",
      " 1   make          11490 non-null  object \n",
      " 2   model         11657 non-null  object \n",
      " 3   adid          11657 non-null  int64  \n",
      " 4   price         11490 non-null  float64\n",
      " 5   mileage       11490 non-null  float64\n",
      " 6   location      11657 non-null  object \n",
      " 7   transmission  11490 non-null  object \n",
      " 8   drivetrain    11032 non-null  object \n",
      " 9   body_type     10695 non-null  object \n",
      " 10  colour        6296 non-null   object \n",
      " 11  fuel_economy  9580 non-null   float64\n",
      " 12  price_delta   9051 non-null   float64\n",
      " 13  more_less     11657 non-null  object \n",
      "dtypes: float64(5), int64(1), object(8)\n",
      "memory usage: 1.3+ MB\n"
     ]
    }
   ],
   "source": [
    "df1.info()"
   ]
  },
  {
   "cell_type": "code",
   "execution_count": 522,
   "metadata": {},
   "outputs": [
    {
     "data": {
      "text/html": [
       "<div>\n",
       "<style scoped>\n",
       "    .dataframe tbody tr th:only-of-type {\n",
       "        vertical-align: middle;\n",
       "    }\n",
       "\n",
       "    .dataframe tbody tr th {\n",
       "        vertical-align: top;\n",
       "    }\n",
       "\n",
       "    .dataframe thead th {\n",
       "        text-align: right;\n",
       "    }\n",
       "</style>\n",
       "<table border=\"1\" class=\"dataframe\">\n",
       "  <thead>\n",
       "    <tr style=\"text-align: right;\">\n",
       "      <th></th>\n",
       "      <th>year</th>\n",
       "      <th>make</th>\n",
       "      <th>model</th>\n",
       "      <th>adid</th>\n",
       "      <th>price</th>\n",
       "      <th>mileage</th>\n",
       "      <th>location</th>\n",
       "      <th>transmission</th>\n",
       "      <th>drivetrain</th>\n",
       "      <th>body_type</th>\n",
       "      <th>colour</th>\n",
       "      <th>fuel_economy</th>\n",
       "      <th>price_delta</th>\n",
       "      <th>more_less</th>\n",
       "    </tr>\n",
       "  </thead>\n",
       "  <tbody>\n",
       "    <tr>\n",
       "      <th>0</th>\n",
       "      <td>2017.0</td>\n",
       "      <td>Infiniti</td>\n",
       "      <td>QX30</td>\n",
       "      <td>49667893</td>\n",
       "      <td>24788.0</td>\n",
       "      <td>34313.0</td>\n",
       "      <td>Thornhill</td>\n",
       "      <td>Automatic</td>\n",
       "      <td>FWD</td>\n",
       "      <td>Wagon</td>\n",
       "      <td>nan</td>\n",
       "      <td>8.5</td>\n",
       "      <td>1722.0</td>\n",
       "      <td>ABOVE</td>\n",
       "    </tr>\n",
       "    <tr>\n",
       "      <th>1</th>\n",
       "      <td>2014.0</td>\n",
       "      <td>Mercedes-Benz</td>\n",
       "      <td>C-Class</td>\n",
       "      <td>49666761</td>\n",
       "      <td>17498.0</td>\n",
       "      <td>82109.0</td>\n",
       "      <td>Kitchener</td>\n",
       "      <td>Automatic</td>\n",
       "      <td>AWD</td>\n",
       "      <td>Sedan</td>\n",
       "      <td>Black</td>\n",
       "      <td>NaN</td>\n",
       "      <td>694.0</td>\n",
       "      <td>BELOW</td>\n",
       "    </tr>\n",
       "    <tr>\n",
       "      <th>2</th>\n",
       "      <td>2016.0</td>\n",
       "      <td>Honda</td>\n",
       "      <td>Odyssey</td>\n",
       "      <td>49647361</td>\n",
       "      <td>27888.0</td>\n",
       "      <td>55919.0</td>\n",
       "      <td>Concord</td>\n",
       "      <td>Automatic</td>\n",
       "      <td>FWD</td>\n",
       "      <td>Minivan</td>\n",
       "      <td>nan</td>\n",
       "      <td>10.6</td>\n",
       "      <td>963.0</td>\n",
       "      <td>ABOVE</td>\n",
       "    </tr>\n",
       "    <tr>\n",
       "      <th>3</th>\n",
       "      <td>2015.0</td>\n",
       "      <td>Kia</td>\n",
       "      <td>Soul</td>\n",
       "      <td>49676108</td>\n",
       "      <td>13880.0</td>\n",
       "      <td>81240.0</td>\n",
       "      <td>Toronto</td>\n",
       "      <td>Automatic</td>\n",
       "      <td>FWD</td>\n",
       "      <td>Hatchback</td>\n",
       "      <td>Grey</td>\n",
       "      <td>9.0</td>\n",
       "      <td>NaN</td>\n",
       "      <td>missing</td>\n",
       "    </tr>\n",
       "    <tr>\n",
       "      <th>4</th>\n",
       "      <td>2019.0</td>\n",
       "      <td>Honda</td>\n",
       "      <td>Civic</td>\n",
       "      <td>49641921</td>\n",
       "      <td>22395.0</td>\n",
       "      <td>34128.0</td>\n",
       "      <td>Toronto</td>\n",
       "      <td>Automatic</td>\n",
       "      <td>FWD</td>\n",
       "      <td>Sedan</td>\n",
       "      <td>Black</td>\n",
       "      <td>7.1</td>\n",
       "      <td>847.0</td>\n",
       "      <td>BELOW</td>\n",
       "    </tr>\n",
       "    <tr>\n",
       "      <th>5</th>\n",
       "      <td>2018.0</td>\n",
       "      <td>Nissan</td>\n",
       "      <td>Rogue</td>\n",
       "      <td>49674691</td>\n",
       "      <td>19999.0</td>\n",
       "      <td>23000.0</td>\n",
       "      <td>London</td>\n",
       "      <td>Automatic</td>\n",
       "      <td>FWD</td>\n",
       "      <td>SUV</td>\n",
       "      <td>Black</td>\n",
       "      <td>8.2</td>\n",
       "      <td>NaN</td>\n",
       "      <td>missing</td>\n",
       "    </tr>\n",
       "    <tr>\n",
       "      <th>6</th>\n",
       "      <td>2013.0</td>\n",
       "      <td>Dodge</td>\n",
       "      <td>Grand</td>\n",
       "      <td>48850091</td>\n",
       "      <td>11995.0</td>\n",
       "      <td>63456.0</td>\n",
       "      <td>ThunderBay</td>\n",
       "      <td>Automatic</td>\n",
       "      <td>FWD</td>\n",
       "      <td>Minivan</td>\n",
       "      <td>Grey</td>\n",
       "      <td>10.3</td>\n",
       "      <td>2328.0</td>\n",
       "      <td>BELOW</td>\n",
       "    </tr>\n",
       "    <tr>\n",
       "      <th>7</th>\n",
       "      <td>2017.0</td>\n",
       "      <td>Jeep</td>\n",
       "      <td>Grand</td>\n",
       "      <td>49663387</td>\n",
       "      <td>31997.0</td>\n",
       "      <td>54544.0</td>\n",
       "      <td>Concord</td>\n",
       "      <td>Automatic</td>\n",
       "      <td>AWD</td>\n",
       "      <td>SUV</td>\n",
       "      <td>Black</td>\n",
       "      <td>NaN</td>\n",
       "      <td>3332.0</td>\n",
       "      <td>ABOVE</td>\n",
       "    </tr>\n",
       "    <tr>\n",
       "      <th>8</th>\n",
       "      <td>2016.0</td>\n",
       "      <td>Nissan</td>\n",
       "      <td>370Z</td>\n",
       "      <td>49674484</td>\n",
       "      <td>20995.0</td>\n",
       "      <td>50000.0</td>\n",
       "      <td>Mississauga</td>\n",
       "      <td>Manual</td>\n",
       "      <td>RWD</td>\n",
       "      <td>nan</td>\n",
       "      <td>nan</td>\n",
       "      <td>NaN</td>\n",
       "      <td>NaN</td>\n",
       "      <td>missing</td>\n",
       "    </tr>\n",
       "    <tr>\n",
       "      <th>9</th>\n",
       "      <td>2017.0</td>\n",
       "      <td>Audi</td>\n",
       "      <td>A4</td>\n",
       "      <td>49658385</td>\n",
       "      <td>22995.0</td>\n",
       "      <td>81311.0</td>\n",
       "      <td>Mississauga</td>\n",
       "      <td>Automatic</td>\n",
       "      <td>AWD</td>\n",
       "      <td>Sedan</td>\n",
       "      <td>Black</td>\n",
       "      <td>8.9</td>\n",
       "      <td>2119.0</td>\n",
       "      <td>BELOW</td>\n",
       "    </tr>\n",
       "  </tbody>\n",
       "</table>\n",
       "</div>"
      ],
      "text/plain": [
       "     year           make    model      adid    price  mileage     location  \\\n",
       "0  2017.0       Infiniti     QX30  49667893  24788.0  34313.0    Thornhill   \n",
       "1  2014.0  Mercedes-Benz  C-Class  49666761  17498.0  82109.0    Kitchener   \n",
       "2  2016.0          Honda  Odyssey  49647361  27888.0  55919.0      Concord   \n",
       "3  2015.0            Kia     Soul  49676108  13880.0  81240.0      Toronto   \n",
       "4  2019.0          Honda    Civic  49641921  22395.0  34128.0      Toronto   \n",
       "5  2018.0         Nissan    Rogue  49674691  19999.0  23000.0       London   \n",
       "6  2013.0          Dodge    Grand  48850091  11995.0  63456.0   ThunderBay   \n",
       "7  2017.0           Jeep    Grand  49663387  31997.0  54544.0      Concord   \n",
       "8  2016.0         Nissan     370Z  49674484  20995.0  50000.0  Mississauga   \n",
       "9  2017.0           Audi       A4  49658385  22995.0  81311.0  Mississauga   \n",
       "\n",
       "  transmission drivetrain  body_type colour  fuel_economy  price_delta  \\\n",
       "0    Automatic        FWD      Wagon    nan           8.5       1722.0   \n",
       "1    Automatic        AWD      Sedan  Black           NaN        694.0   \n",
       "2    Automatic        FWD    Minivan    nan          10.6        963.0   \n",
       "3    Automatic        FWD  Hatchback   Grey           9.0          NaN   \n",
       "4    Automatic        FWD      Sedan  Black           7.1        847.0   \n",
       "5    Automatic        FWD        SUV  Black           8.2          NaN   \n",
       "6    Automatic        FWD    Minivan   Grey          10.3       2328.0   \n",
       "7    Automatic        AWD        SUV  Black           NaN       3332.0   \n",
       "8       Manual        RWD        nan    nan           NaN          NaN   \n",
       "9    Automatic        AWD      Sedan  Black           8.9       2119.0   \n",
       "\n",
       "  more_less  \n",
       "0     ABOVE  \n",
       "1     BELOW  \n",
       "2     ABOVE  \n",
       "3   missing  \n",
       "4     BELOW  \n",
       "5   missing  \n",
       "6     BELOW  \n",
       "7     ABOVE  \n",
       "8   missing  \n",
       "9     BELOW  "
      ]
     },
     "execution_count": 522,
     "metadata": {},
     "output_type": "execute_result"
    }
   ],
   "source": [
    "df1.head(10)"
   ]
  },
  {
   "cell_type": "code",
   "execution_count": 518,
   "metadata": {},
   "outputs": [
    {
     "data": {
      "text/plain": [
       "array(['Infiniti', 'Mercedes-Benz', 'Honda', 'Kia', 'Nissan', 'Dodge',\n",
       "       'Jeep', 'Audi', 'Ford', 'Chevrolet', 'Buick', 'Subaru', 'BMW',\n",
       "       'Mazda', 'Toyota', 'Fiat', 'Lincoln', 'Hyundai', 'Chrysler',\n",
       "       'Mitsubishi', 'Volkswagen', 'Lexus', 'Jaguar', 'Acura', 'Land',\n",
       "       'Ram', 'Porsche', 'GMC', 'Tesla', 'Volvo', 'MINI', 'Cadillac',\n",
       "       'Lamborghini', 'Scion', 'Aston', 'Maserati', 'Alfa', 'Genesis',\n",
       "       'smart', 'Ferrari', 'McLaren', 'Bentley', 'Rolls-Royce', 'nan',\n",
       "       'Hino'], dtype=object)"
      ]
     },
     "execution_count": 518,
     "metadata": {},
     "output_type": "execute_result"
    }
   ],
   "source": [
    "df1.make.unique()"
   ]
  },
  {
   "cell_type": "code",
   "execution_count": null,
   "metadata": {},
   "outputs": [],
   "source": []
  },
  {
   "cell_type": "markdown",
   "metadata": {},
   "source": [
    "### Data Clean and Categorisation"
   ]
  },
  {
   "cell_type": "code",
   "execution_count": 420,
   "metadata": {},
   "outputs": [],
   "source": [
    "#Clean the Transmissions column, categorisation\n",
    "df1['transmission'] = df1['transmission'].map({'7 Speed Automatic':'Automatic', '6 Speed Automatic':'Automatic',\\\n",
    "                                               'CVT':'Automatic', '8 Speed Automatic':'Automatic',\\\n",
    "                                               '6 Speed Manual':'Manual', '9 Speed Automatic':'Automatic',\\\n",
    "                                               '7 Speed Manual':'Manual', '4 Speed Automatic':'Automatic',\\\n",
    "                                               '10 Speed Automatic':'Automatic', 'Not Available':'Missing',\\\n",
    "                                               '5 Speed Automatic':'Automatic', '1 Speed Automatic':'Automatic',\\\n",
    "                                               'Automatic':'Automatic','Manual':'Manual','missing':'Missing',\\\n",
    "                                               '5 Speed Manual':'Manual', '6 Speed Automatic with auto-shift':'Automatic',\\\n",
    "                                               '7 Speed Automatic with auto-shift':'Automatic', '8 Speed Automatic with auto-shift':'missing'})\n"
   ]
  },
  {
   "cell_type": "code",
   "execution_count": 422,
   "metadata": {},
   "outputs": [],
   "source": [
    "#Reassign data type\n",
    "df1['colour']=df1['colour'].astype(str)\n"
   ]
  },
  {
   "cell_type": "code",
   "execution_count": 423,
   "metadata": {},
   "outputs": [],
   "source": [
    "#categorize colour names \n",
    "df1['colour'] = df1['colour'].map({'Black':'Black', 'White':'White',\\\n",
    "                                   'Grey':'Grey','Gray':'Grey','Blue':'Blue',\\\n",
    "                                   'Silver':'Silver','Red':'Red','Dark Grey':'Grey',\\\n",
    "                                   'Crystal Black Pearl':'Black','Alpine White':'White',\\\n",
    "                                   'Brilliant Black Crystal Pearl':'Black','Shadow Black':'Black',\\\n",
    "                                   'Granite Crystal Metallic':'Grey','Lunar Silver Metallic':'Silver',\\\n",
    "                                   'Gun Metallic':'Grey','Modern Steel Metallic':'Grey','Deep Black Pearl':'Black',\\\n",
    "                                   'Pearl White':'White','White Diamond Pearl':'White','Charcoal':'Black',\\\n",
    "                                   'Ingot Silver Metallic':'Silver','Magnetic Black Metallic':'Black','Summit White':'White',\\\n",
    "                                   'Polar White':'White','Brown':'Brown','Bright White':'White',\\\n",
    "                                   'Midnight Black Metallic':'Black','Pure White':'White','Agate Black':'Black',\\\n",
    "                                   'Burgundy':'Red','Green':'Green','Yellow':'Yellow','Magnetic Metallic':'Grey'})"
   ]
  },
  {
   "cell_type": "code",
   "execution_count": 424,
   "metadata": {},
   "outputs": [],
   "source": [
    "#Clean the drivetrain column\n",
    "df1['drivetrain'] = df1['drivetrain'].map({'FWD':'FWD', 'AWD':'AWD',\\\n",
    "                                           '4x4':'AWD', '4WD':'AWD',\\\n",
    "                                           'RWD':'RWD','2WD':'2WD'})\n",
    "                                  "
   ]
  },
  {
   "cell_type": "code",
   "execution_count": 850,
   "metadata": {
    "scrolled": true
   },
   "outputs": [],
   "source": [
    "#Clean the body type column \n",
    "df1['body_type'] = df1['body_type'].map({'SUV':'SUV', 'Sedan':'Sedan',\\\n",
    "                                         'Hatchback':'Hatchback', 'Truck':'Truck',\\\n",
    "                                         'Minivan':'Minivan','Coupe':'Coupe',\\\n",
    "                                         'Wagon':'Wagon','Crew Cab':'Truck',\\\n",
    "                                         'Regular Cab':'Truck','Truck Crew Cab':'Truck',\\\n",
    "                                         'Compact':'Sedan','Convertible':'Convertible',\\\n",
    "                                         'Extended Cab':'Truck'})"
   ]
  },
  {
   "cell_type": "code",
   "execution_count": 932,
   "metadata": {},
   "outputs": [],
   "source": [
    "#Body type column further categorized\n",
    "df1['body_type'] = df1['body_type'].map({'SUV':'SUV', 'Sedan':'Sedan',\\\n",
    "                                         'Hatchback':'Sedan', 'Truck':'Truck',\\\n",
    "                                         'Minivan':'Minivan','Coupe':'Coupe',\\\n",
    "                                         'Wagon':'Sedan','Crew Cab':'Truck',\\\n",
    "                                         'Regular Cab':'Truck','Truck Crew Cab':'Truck',\\\n",
    "                                         'Compact':'Sedan','Convertible':'Coupe',\\\n",
    "                                         'Extended Cab':'Truck'})"
   ]
  },
  {
   "cell_type": "code",
   "execution_count": 934,
   "metadata": {},
   "outputs": [
    {
     "data": {
      "text/plain": [
       "array(['Sedan', 'Minivan', 'SUV', nan, 'Truck', 'Coupe'], dtype=object)"
      ]
     },
     "execution_count": 934,
     "metadata": {},
     "output_type": "execute_result"
    }
   ],
   "source": [
    "df1['body_type'].unique()"
   ]
  },
  {
   "cell_type": "code",
   "execution_count": null,
   "metadata": {},
   "outputs": [],
   "source": [
    "#Deal with 'missing' values as per column data types\n",
    "for i in range(len(df1)):\n",
    "    if df1.loc[i,'price']=='missing':\n",
    "        df1.loc[i,'price']=np.nan\n",
    "        \n",
    "df1['price']=df1['price'].astype(float)"
   ]
  },
  {
   "cell_type": "code",
   "execution_count": 279,
   "metadata": {},
   "outputs": [],
   "source": [
    "#Deal with 'missing' values as per column data types\n",
    "for i in range(len(df1)):\n",
    "    if df1.loc[i,'fuel_economy']=='missing':\n",
    "        df1.loc[i,'fuel_economy']=np.nan\n",
    "        \n",
    "df1['fuel_economy']=df1['fuel_economy'].astype(float)\n"
   ]
  },
  {
   "cell_type": "code",
   "execution_count": null,
   "metadata": {},
   "outputs": [],
   "source": [
    "#Deal with 'missing' values as per column data types\n",
    "for i in range(len(df1)):\n",
    "    if df1.loc[i,'price_delta']=='missing':\n",
    "        df1.loc[i,'price_delta']=np.nan\n",
    "        \n",
    "df1['price_delta']=df1['price_delta'].astype(float)"
   ]
  },
  {
   "cell_type": "code",
   "execution_count": null,
   "metadata": {},
   "outputs": [],
   "source": [
    "#Deal with 'missing' values as per column data types\n",
    "for i in range(len(df1)):\n",
    "    if df1.loc[i,'year']=='missing':\n",
    "        df1.loc[i,'year']=np.nan\n",
    "        \n",
    "df1['year']=df1['year'].astype(float)\n"
   ]
  },
  {
   "cell_type": "markdown",
   "metadata": {},
   "source": [
    "### Mean Value vs Year (by drivetrain)"
   ]
  },
  {
   "cell_type": "code",
   "execution_count": 704,
   "metadata": {
    "scrolled": true
   },
   "outputs": [
    {
     "data": {
      "text/plain": [
       "54439.301449275365"
      ]
     },
     "execution_count": 704,
     "metadata": {},
     "output_type": "execute_result"
    }
   ],
   "source": [
    "df1[df1['drivetrain']=='RWD']['price'].mean()"
   ]
  },
  {
   "cell_type": "code",
   "execution_count": 705,
   "metadata": {
    "scrolled": true
   },
   "outputs": [
    {
     "data": {
      "text/plain": [
       "32947.372096672945"
      ]
     },
     "execution_count": 705,
     "metadata": {},
     "output_type": "execute_result"
    }
   ],
   "source": [
    "df1[df1['drivetrain']=='AWD']['price'].mean()"
   ]
  },
  {
   "cell_type": "code",
   "execution_count": 706,
   "metadata": {},
   "outputs": [
    {
     "data": {
      "text/plain": [
       "17256.84187340598"
      ]
     },
     "execution_count": 706,
     "metadata": {},
     "output_type": "execute_result"
    }
   ],
   "source": [
    "df1[df1['drivetrain']=='FWD']['price'].mean()"
   ]
  },
  {
   "cell_type": "code",
   "execution_count": 694,
   "metadata": {},
   "outputs": [
    {
     "data": {
      "text/html": [
       "<div>\n",
       "<style scoped>\n",
       "    .dataframe tbody tr th:only-of-type {\n",
       "        vertical-align: middle;\n",
       "    }\n",
       "\n",
       "    .dataframe tbody tr th {\n",
       "        vertical-align: top;\n",
       "    }\n",
       "\n",
       "    .dataframe thead th {\n",
       "        text-align: right;\n",
       "    }\n",
       "</style>\n",
       "<table border=\"1\" class=\"dataframe\">\n",
       "  <thead>\n",
       "    <tr style=\"text-align: right;\">\n",
       "      <th></th>\n",
       "      <th>year</th>\n",
       "      <th>make</th>\n",
       "      <th>model</th>\n",
       "      <th>adid</th>\n",
       "      <th>price</th>\n",
       "      <th>mileage</th>\n",
       "      <th>location</th>\n",
       "      <th>transmission</th>\n",
       "      <th>drivetrain</th>\n",
       "      <th>body_type</th>\n",
       "      <th>colour</th>\n",
       "      <th>fuel_economy</th>\n",
       "      <th>price_delta</th>\n",
       "      <th>more_less</th>\n",
       "    </tr>\n",
       "  </thead>\n",
       "  <tbody>\n",
       "    <tr>\n",
       "      <th>0</th>\n",
       "      <td>2017.0</td>\n",
       "      <td>Infiniti</td>\n",
       "      <td>QX30</td>\n",
       "      <td>49667893</td>\n",
       "      <td>24788.0</td>\n",
       "      <td>34313.0</td>\n",
       "      <td>Thornhill</td>\n",
       "      <td>Automatic</td>\n",
       "      <td>FWD</td>\n",
       "      <td>Wagon</td>\n",
       "      <td>NaN</td>\n",
       "      <td>8.5</td>\n",
       "      <td>1722.0</td>\n",
       "      <td>ABOVE</td>\n",
       "    </tr>\n",
       "    <tr>\n",
       "      <th>1</th>\n",
       "      <td>2014.0</td>\n",
       "      <td>Mercedes-Benz</td>\n",
       "      <td>C-Class</td>\n",
       "      <td>49666761</td>\n",
       "      <td>17498.0</td>\n",
       "      <td>82109.0</td>\n",
       "      <td>Kitchener</td>\n",
       "      <td>Automatic</td>\n",
       "      <td>AWD</td>\n",
       "      <td>Sedan</td>\n",
       "      <td>Black</td>\n",
       "      <td>NaN</td>\n",
       "      <td>694.0</td>\n",
       "      <td>BELOW</td>\n",
       "    </tr>\n",
       "    <tr>\n",
       "      <th>2</th>\n",
       "      <td>2016.0</td>\n",
       "      <td>Honda</td>\n",
       "      <td>Odyssey</td>\n",
       "      <td>49647361</td>\n",
       "      <td>27888.0</td>\n",
       "      <td>55919.0</td>\n",
       "      <td>Concord</td>\n",
       "      <td>Automatic</td>\n",
       "      <td>FWD</td>\n",
       "      <td>Minivan</td>\n",
       "      <td>NaN</td>\n",
       "      <td>10.6</td>\n",
       "      <td>963.0</td>\n",
       "      <td>ABOVE</td>\n",
       "    </tr>\n",
       "    <tr>\n",
       "      <th>3</th>\n",
       "      <td>2015.0</td>\n",
       "      <td>Kia</td>\n",
       "      <td>Soul</td>\n",
       "      <td>49676108</td>\n",
       "      <td>13880.0</td>\n",
       "      <td>81240.0</td>\n",
       "      <td>Toronto</td>\n",
       "      <td>Automatic</td>\n",
       "      <td>FWD</td>\n",
       "      <td>Hatchback</td>\n",
       "      <td>Grey</td>\n",
       "      <td>9.0</td>\n",
       "      <td>NaN</td>\n",
       "      <td>missing</td>\n",
       "    </tr>\n",
       "    <tr>\n",
       "      <th>4</th>\n",
       "      <td>2019.0</td>\n",
       "      <td>Honda</td>\n",
       "      <td>Civic</td>\n",
       "      <td>49641921</td>\n",
       "      <td>22395.0</td>\n",
       "      <td>34128.0</td>\n",
       "      <td>Toronto</td>\n",
       "      <td>Automatic</td>\n",
       "      <td>FWD</td>\n",
       "      <td>Sedan</td>\n",
       "      <td>Black</td>\n",
       "      <td>7.1</td>\n",
       "      <td>847.0</td>\n",
       "      <td>BELOW</td>\n",
       "    </tr>\n",
       "    <tr>\n",
       "      <th>5</th>\n",
       "      <td>2018.0</td>\n",
       "      <td>Nissan</td>\n",
       "      <td>Rogue</td>\n",
       "      <td>49674691</td>\n",
       "      <td>19999.0</td>\n",
       "      <td>23000.0</td>\n",
       "      <td>London</td>\n",
       "      <td>Automatic</td>\n",
       "      <td>FWD</td>\n",
       "      <td>SUV</td>\n",
       "      <td>Black</td>\n",
       "      <td>8.2</td>\n",
       "      <td>NaN</td>\n",
       "      <td>missing</td>\n",
       "    </tr>\n",
       "    <tr>\n",
       "      <th>6</th>\n",
       "      <td>2013.0</td>\n",
       "      <td>Dodge</td>\n",
       "      <td>Grand</td>\n",
       "      <td>48850091</td>\n",
       "      <td>11995.0</td>\n",
       "      <td>63456.0</td>\n",
       "      <td>ThunderBay</td>\n",
       "      <td>Automatic</td>\n",
       "      <td>FWD</td>\n",
       "      <td>Minivan</td>\n",
       "      <td>Grey</td>\n",
       "      <td>10.3</td>\n",
       "      <td>2328.0</td>\n",
       "      <td>BELOW</td>\n",
       "    </tr>\n",
       "    <tr>\n",
       "      <th>7</th>\n",
       "      <td>2017.0</td>\n",
       "      <td>Jeep</td>\n",
       "      <td>Grand</td>\n",
       "      <td>49663387</td>\n",
       "      <td>31997.0</td>\n",
       "      <td>54544.0</td>\n",
       "      <td>Concord</td>\n",
       "      <td>Automatic</td>\n",
       "      <td>AWD</td>\n",
       "      <td>SUV</td>\n",
       "      <td>Black</td>\n",
       "      <td>NaN</td>\n",
       "      <td>3332.0</td>\n",
       "      <td>ABOVE</td>\n",
       "    </tr>\n",
       "    <tr>\n",
       "      <th>8</th>\n",
       "      <td>2016.0</td>\n",
       "      <td>Nissan</td>\n",
       "      <td>370Z</td>\n",
       "      <td>49674484</td>\n",
       "      <td>20995.0</td>\n",
       "      <td>50000.0</td>\n",
       "      <td>Mississauga</td>\n",
       "      <td>Manual</td>\n",
       "      <td>RWD</td>\n",
       "      <td>NaN</td>\n",
       "      <td>NaN</td>\n",
       "      <td>NaN</td>\n",
       "      <td>NaN</td>\n",
       "      <td>missing</td>\n",
       "    </tr>\n",
       "    <tr>\n",
       "      <th>9</th>\n",
       "      <td>2017.0</td>\n",
       "      <td>Audi</td>\n",
       "      <td>A4</td>\n",
       "      <td>49658385</td>\n",
       "      <td>22995.0</td>\n",
       "      <td>81311.0</td>\n",
       "      <td>Mississauga</td>\n",
       "      <td>Automatic</td>\n",
       "      <td>AWD</td>\n",
       "      <td>Sedan</td>\n",
       "      <td>Black</td>\n",
       "      <td>8.9</td>\n",
       "      <td>2119.0</td>\n",
       "      <td>BELOW</td>\n",
       "    </tr>\n",
       "  </tbody>\n",
       "</table>\n",
       "</div>"
      ],
      "text/plain": [
       "     year           make    model      adid    price  mileage     location  \\\n",
       "0  2017.0       Infiniti     QX30  49667893  24788.0  34313.0    Thornhill   \n",
       "1  2014.0  Mercedes-Benz  C-Class  49666761  17498.0  82109.0    Kitchener   \n",
       "2  2016.0          Honda  Odyssey  49647361  27888.0  55919.0      Concord   \n",
       "3  2015.0            Kia     Soul  49676108  13880.0  81240.0      Toronto   \n",
       "4  2019.0          Honda    Civic  49641921  22395.0  34128.0      Toronto   \n",
       "5  2018.0         Nissan    Rogue  49674691  19999.0  23000.0       London   \n",
       "6  2013.0          Dodge    Grand  48850091  11995.0  63456.0   ThunderBay   \n",
       "7  2017.0           Jeep    Grand  49663387  31997.0  54544.0      Concord   \n",
       "8  2016.0         Nissan     370Z  49674484  20995.0  50000.0  Mississauga   \n",
       "9  2017.0           Audi       A4  49658385  22995.0  81311.0  Mississauga   \n",
       "\n",
       "  transmission drivetrain  body_type colour  fuel_economy  price_delta  \\\n",
       "0    Automatic        FWD      Wagon    NaN           8.5       1722.0   \n",
       "1    Automatic        AWD      Sedan  Black           NaN        694.0   \n",
       "2    Automatic        FWD    Minivan    NaN          10.6        963.0   \n",
       "3    Automatic        FWD  Hatchback   Grey           9.0          NaN   \n",
       "4    Automatic        FWD      Sedan  Black           7.1        847.0   \n",
       "5    Automatic        FWD        SUV  Black           8.2          NaN   \n",
       "6    Automatic        FWD    Minivan   Grey          10.3       2328.0   \n",
       "7    Automatic        AWD        SUV  Black           NaN       3332.0   \n",
       "8       Manual        RWD        NaN    NaN           NaN          NaN   \n",
       "9    Automatic        AWD      Sedan  Black           8.9       2119.0   \n",
       "\n",
       "  more_less  \n",
       "0     ABOVE  \n",
       "1     BELOW  \n",
       "2     ABOVE  \n",
       "3   missing  \n",
       "4     BELOW  \n",
       "5   missing  \n",
       "6     BELOW  \n",
       "7     ABOVE  \n",
       "8   missing  \n",
       "9     BELOW  "
      ]
     },
     "execution_count": 694,
     "metadata": {},
     "output_type": "execute_result"
    }
   ],
   "source": [
    "df_dt_notna.head(10)"
   ]
  },
  {
   "cell_type": "code",
   "execution_count": 136,
   "metadata": {},
   "outputs": [],
   "source": [
    "df_dt_notna=df1[df1['drivetrain'].notna()]\n",
    "df_dt_notna=df_dt_notna[df_dt_notna['drivetrain']!='2WD']"
   ]
  },
  {
   "cell_type": "code",
   "execution_count": 137,
   "metadata": {
    "scrolled": false
   },
   "outputs": [
    {
     "data": {
      "text/plain": [
       "array(['FWD', 'AWD', 'RWD'], dtype=object)"
      ]
     },
     "execution_count": 137,
     "metadata": {},
     "output_type": "execute_result"
    }
   ],
   "source": [
    "df_dt_notna['drivetrain'].unique()"
   ]
  },
  {
   "cell_type": "code",
   "execution_count": 144,
   "metadata": {},
   "outputs": [
    {
     "data": {
      "image/png": "[encoded data removed]",
      "text/plain": [
       "<Figure size 864x576 with 1 Axes>"
      ]
     },
     "metadata": {
      "needs_background": "light"
     },
     "output_type": "display_data"
    }
   ],
   "source": [
    "df_dt_notna.groupby(['year','drivetrain'])['price'].mean().unstack().plot(figsize=(12, 8)).invert_xaxis()\n",
    "plt.ylabel('mean price $')\n",
    "plt.rc('font', size=18) "
   ]
  },
  {
   "cell_type": "markdown",
   "metadata": {},
   "source": [
    "### Mean Value vs Year (by transmission)"
   ]
  },
  {
   "cell_type": "code",
   "execution_count": 124,
   "metadata": {},
   "outputs": [],
   "source": [
    "df_tr_notna=df1[df1['transmission'].isin(['Automatic','Manual'])]"
   ]
  },
  {
   "cell_type": "code",
   "execution_count": 143,
   "metadata": {},
   "outputs": [
    {
     "data": {
      "image/png": "[encoded data removed]",
      "text/plain": [
       "<Figure size 864x576 with 1 Axes>"
      ]
     },
     "metadata": {
      "needs_background": "light"
     },
     "output_type": "display_data"
    }
   ],
   "source": [
    "df_tr_notna.groupby(['year','transmission'])['price'].mean().unstack().plot(figsize=(12, 8)).invert_xaxis()\n",
    "plt.ylabel('mean price $')\n",
    "plt.rc('font', size=18) "
   ]
  },
  {
   "cell_type": "markdown",
   "metadata": {},
   "source": [
    "### Mean Value vs Year (by body type)"
   ]
  },
  {
   "cell_type": "code",
   "execution_count": 146,
   "metadata": {},
   "outputs": [],
   "source": [
    "# Further categorize body types eg. Hatchback and Wagons are actually Sedans\n",
    "df1_bodytype_lesstypes=df1\n",
    "df1_bodytype_lesstypes['body_type'] = df1_bodytype_lesstypes['body_type'].map({'SUV':'SUV', 'Sedan':'Sedan',\\\n",
    "                                         'Hatchback':'Sedan', 'Truck':'Truck',\\\n",
    "                                         'Minivan':'Minivan','Coupe':'Coupe',\\\n",
    "                                         'Wagon':'Sedan','Crew Cab':'Truck',\\\n",
    "                                         'Regular Cab':'Truck','Truck Crew Cab':'Truck',\\\n",
    "                                         'Compact':'Sedan','Convertible':'Coupe',\\\n",
    "                                         'Extended Cab':'Truck'})"
   ]
  },
  {
   "cell_type": "code",
   "execution_count": 147,
   "metadata": {},
   "outputs": [],
   "source": [
    "df_bt_notna=df1_bodytype_lesstypes[df1_bodytype_lesstypes['body_type'].notna()]"
   ]
  },
  {
   "cell_type": "code",
   "execution_count": 148,
   "metadata": {},
   "outputs": [
    {
     "data": {
      "text/plain": [
       "array(['Sedan', 'Minivan', 'SUV', 'Truck', 'Coupe'], dtype=object)"
      ]
     },
     "execution_count": 148,
     "metadata": {},
     "output_type": "execute_result"
    }
   ],
   "source": [
    "df_bt_notna['body_type'].unique()"
   ]
  },
  {
   "cell_type": "code",
   "execution_count": 149,
   "metadata": {
    "scrolled": false
   },
   "outputs": [
    {
     "data": {
      "image/png": "[encoded data removed]",
      "text/plain": [
       "<Figure size 864x576 with 1 Axes>"
      ]
     },
     "metadata": {
      "needs_background": "light"
     },
     "output_type": "display_data"
    }
   ],
   "source": [
    "df_bt_notna.groupby(['year','body_type'])['price'].mean().unstack().plot(figsize=(12, 8)).invert_xaxis()\n",
    "plt.ylabel('mean price $')\n",
    "plt.rc('font', size=18) "
   ]
  },
  {
   "cell_type": "markdown",
   "metadata": {},
   "source": [
    "### Counts by fuel economy"
   ]
  },
  {
   "cell_type": "code",
   "execution_count": 150,
   "metadata": {},
   "outputs": [],
   "source": [
    "df_fe_notna=df1[df1['fuel_economy'].notna()]"
   ]
  },
  {
   "cell_type": "code",
   "execution_count": 151,
   "metadata": {
    "scrolled": true
   },
   "outputs": [],
   "source": [
    "df_fe_notna=df_fe_notna[df_fe_notna['fuel_economy']<20]"
   ]
  },
  {
   "cell_type": "code",
   "execution_count": 155,
   "metadata": {},
   "outputs": [
    {
     "data": {
      "text/plain": [
       "Text(0.5, 0, 'L / 100km')"
      ]
     },
     "execution_count": 155,
     "metadata": {},
     "output_type": "execute_result"
    },
    {
     "data": {
      "image/png": "[encoded data removed]",
      "text/plain": [
       "<Figure size 1296x288 with 1 Axes>"
      ]
     },
     "metadata": {
      "needs_background": "light"
     },
     "output_type": "display_data"
    }
   ],
   "source": [
    "plt.figure(figsize=(18,4))\n",
    "plt.hist(df_fe_notna['fuel_economy'],bins=20)\n",
    "plt.ylabel('count')\n",
    "plt.xlabel('L / 100km')"
   ]
  },
  {
   "cell_type": "markdown",
   "metadata": {},
   "source": [
    "### Counts by mileage"
   ]
  },
  {
   "cell_type": "code",
   "execution_count": 157,
   "metadata": {},
   "outputs": [],
   "source": [
    "df_mil_notna=df1[df1['mileage'].notna()]"
   ]
  },
  {
   "cell_type": "code",
   "execution_count": 158,
   "metadata": {},
   "outputs": [],
   "source": [
    "df_mil_notna_filtered=df_mil_notna[df_mil_notna['mileage']<300000]"
   ]
  },
  {
   "cell_type": "code",
   "execution_count": 159,
   "metadata": {},
   "outputs": [
    {
     "data": {
      "text/plain": [
       "Text(0.5, 0, 'km')"
      ]
     },
     "execution_count": 159,
     "metadata": {},
     "output_type": "execute_result"
    },
    {
     "data": {
      "image/png": "[encoded data removed]",
      "text/plain": [
       "<Figure size 1296x288 with 1 Axes>"
      ]
     },
     "metadata": {
      "needs_background": "light"
     },
     "output_type": "display_data"
    }
   ],
   "source": [
    "plt.figure(figsize=(18,4))\n",
    "plt.hist(df_mil_notna_filtered['mileage'],bins=30)\n",
    "plt.ylabel('count')\n",
    "plt.xlabel('km')"
   ]
  },
  {
   "cell_type": "markdown",
   "metadata": {},
   "source": [
    "### Counts by year, Bar Chart and Pie Chart(not used)"
   ]
  },
  {
   "cell_type": "code",
   "execution_count": 278,
   "metadata": {
    "scrolled": true
   },
   "outputs": [
    {
     "data": {
      "text/html": [
       "<div>\n",
       "<style scoped>\n",
       "    .dataframe tbody tr th:only-of-type {\n",
       "        vertical-align: middle;\n",
       "    }\n",
       "\n",
       "    .dataframe tbody tr th {\n",
       "        vertical-align: top;\n",
       "    }\n",
       "\n",
       "    .dataframe thead th {\n",
       "        text-align: right;\n",
       "    }\n",
       "</style>\n",
       "<table border=\"1\" class=\"dataframe\">\n",
       "  <thead>\n",
       "    <tr style=\"text-align: right;\">\n",
       "      <th></th>\n",
       "      <th>year</th>\n",
       "      <th>make</th>\n",
       "      <th>model</th>\n",
       "      <th>adid</th>\n",
       "      <th>price</th>\n",
       "      <th>mileage</th>\n",
       "      <th>location</th>\n",
       "      <th>transmission</th>\n",
       "      <th>drivetrain</th>\n",
       "      <th>body_type</th>\n",
       "      <th>colour</th>\n",
       "      <th>fuel_economy</th>\n",
       "      <th>price_delta</th>\n",
       "      <th>more_less</th>\n",
       "    </tr>\n",
       "  </thead>\n",
       "  <tbody>\n",
       "    <tr>\n",
       "      <th>0</th>\n",
       "      <td>2017.0</td>\n",
       "      <td>Infiniti</td>\n",
       "      <td>QX30</td>\n",
       "      <td>49667893</td>\n",
       "      <td>24788.0</td>\n",
       "      <td>34313.0</td>\n",
       "      <td>Thornhill</td>\n",
       "      <td>Automatic</td>\n",
       "      <td>FWD</td>\n",
       "      <td>Sedan</td>\n",
       "      <td>NaN</td>\n",
       "      <td>8.5</td>\n",
       "      <td>1722.0</td>\n",
       "      <td>ABOVE</td>\n",
       "    </tr>\n",
       "    <tr>\n",
       "      <th>1</th>\n",
       "      <td>2014.0</td>\n",
       "      <td>Mercedes-Benz</td>\n",
       "      <td>C-Class</td>\n",
       "      <td>49666761</td>\n",
       "      <td>17498.0</td>\n",
       "      <td>82109.0</td>\n",
       "      <td>Kitchener</td>\n",
       "      <td>Automatic</td>\n",
       "      <td>AWD</td>\n",
       "      <td>Sedan</td>\n",
       "      <td>Black</td>\n",
       "      <td>NaN</td>\n",
       "      <td>694.0</td>\n",
       "      <td>BELOW</td>\n",
       "    </tr>\n",
       "    <tr>\n",
       "      <th>2</th>\n",
       "      <td>2016.0</td>\n",
       "      <td>Honda</td>\n",
       "      <td>Odyssey</td>\n",
       "      <td>49647361</td>\n",
       "      <td>27888.0</td>\n",
       "      <td>55919.0</td>\n",
       "      <td>Concord</td>\n",
       "      <td>Automatic</td>\n",
       "      <td>FWD</td>\n",
       "      <td>Minivan</td>\n",
       "      <td>NaN</td>\n",
       "      <td>10.6</td>\n",
       "      <td>963.0</td>\n",
       "      <td>ABOVE</td>\n",
       "    </tr>\n",
       "    <tr>\n",
       "      <th>3</th>\n",
       "      <td>2015.0</td>\n",
       "      <td>Kia</td>\n",
       "      <td>Soul</td>\n",
       "      <td>49676108</td>\n",
       "      <td>13880.0</td>\n",
       "      <td>81240.0</td>\n",
       "      <td>Toronto</td>\n",
       "      <td>Automatic</td>\n",
       "      <td>FWD</td>\n",
       "      <td>Sedan</td>\n",
       "      <td>Grey</td>\n",
       "      <td>9.0</td>\n",
       "      <td>NaN</td>\n",
       "      <td>missing</td>\n",
       "    </tr>\n",
       "    <tr>\n",
       "      <th>4</th>\n",
       "      <td>2019.0</td>\n",
       "      <td>Honda</td>\n",
       "      <td>Civic</td>\n",
       "      <td>49641921</td>\n",
       "      <td>22395.0</td>\n",
       "      <td>34128.0</td>\n",
       "      <td>Toronto</td>\n",
       "      <td>Automatic</td>\n",
       "      <td>FWD</td>\n",
       "      <td>Sedan</td>\n",
       "      <td>Black</td>\n",
       "      <td>7.1</td>\n",
       "      <td>847.0</td>\n",
       "      <td>BELOW</td>\n",
       "    </tr>\n",
       "    <tr>\n",
       "      <th>5</th>\n",
       "      <td>2018.0</td>\n",
       "      <td>Nissan</td>\n",
       "      <td>Rogue</td>\n",
       "      <td>49674691</td>\n",
       "      <td>19999.0</td>\n",
       "      <td>23000.0</td>\n",
       "      <td>London</td>\n",
       "      <td>Automatic</td>\n",
       "      <td>FWD</td>\n",
       "      <td>SUV</td>\n",
       "      <td>Black</td>\n",
       "      <td>8.2</td>\n",
       "      <td>NaN</td>\n",
       "      <td>missing</td>\n",
       "    </tr>\n",
       "    <tr>\n",
       "      <th>6</th>\n",
       "      <td>2013.0</td>\n",
       "      <td>Dodge</td>\n",
       "      <td>Grand</td>\n",
       "      <td>48850091</td>\n",
       "      <td>11995.0</td>\n",
       "      <td>63456.0</td>\n",
       "      <td>ThunderBay</td>\n",
       "      <td>Automatic</td>\n",
       "      <td>FWD</td>\n",
       "      <td>Minivan</td>\n",
       "      <td>Grey</td>\n",
       "      <td>10.3</td>\n",
       "      <td>2328.0</td>\n",
       "      <td>BELOW</td>\n",
       "    </tr>\n",
       "    <tr>\n",
       "      <th>7</th>\n",
       "      <td>2017.0</td>\n",
       "      <td>Jeep</td>\n",
       "      <td>Grand</td>\n",
       "      <td>49663387</td>\n",
       "      <td>31997.0</td>\n",
       "      <td>54544.0</td>\n",
       "      <td>Concord</td>\n",
       "      <td>Automatic</td>\n",
       "      <td>AWD</td>\n",
       "      <td>SUV</td>\n",
       "      <td>Black</td>\n",
       "      <td>NaN</td>\n",
       "      <td>3332.0</td>\n",
       "      <td>ABOVE</td>\n",
       "    </tr>\n",
       "    <tr>\n",
       "      <th>8</th>\n",
       "      <td>2016.0</td>\n",
       "      <td>Nissan</td>\n",
       "      <td>370Z</td>\n",
       "      <td>49674484</td>\n",
       "      <td>20995.0</td>\n",
       "      <td>50000.0</td>\n",
       "      <td>Mississauga</td>\n",
       "      <td>Manual</td>\n",
       "      <td>RWD</td>\n",
       "      <td>NaN</td>\n",
       "      <td>NaN</td>\n",
       "      <td>NaN</td>\n",
       "      <td>NaN</td>\n",
       "      <td>missing</td>\n",
       "    </tr>\n",
       "    <tr>\n",
       "      <th>9</th>\n",
       "      <td>2017.0</td>\n",
       "      <td>Audi</td>\n",
       "      <td>A4</td>\n",
       "      <td>49658385</td>\n",
       "      <td>22995.0</td>\n",
       "      <td>81311.0</td>\n",
       "      <td>Mississauga</td>\n",
       "      <td>Automatic</td>\n",
       "      <td>AWD</td>\n",
       "      <td>Sedan</td>\n",
       "      <td>Black</td>\n",
       "      <td>8.9</td>\n",
       "      <td>2119.0</td>\n",
       "      <td>BELOW</td>\n",
       "    </tr>\n",
       "  </tbody>\n",
       "</table>\n",
       "</div>"
      ],
      "text/plain": [
       "     year           make    model      adid    price  mileage     location  \\\n",
       "0  2017.0       Infiniti     QX30  49667893  24788.0  34313.0    Thornhill   \n",
       "1  2014.0  Mercedes-Benz  C-Class  49666761  17498.0  82109.0    Kitchener   \n",
       "2  2016.0          Honda  Odyssey  49647361  27888.0  55919.0      Concord   \n",
       "3  2015.0            Kia     Soul  49676108  13880.0  81240.0      Toronto   \n",
       "4  2019.0          Honda    Civic  49641921  22395.0  34128.0      Toronto   \n",
       "5  2018.0         Nissan    Rogue  49674691  19999.0  23000.0       London   \n",
       "6  2013.0          Dodge    Grand  48850091  11995.0  63456.0   ThunderBay   \n",
       "7  2017.0           Jeep    Grand  49663387  31997.0  54544.0      Concord   \n",
       "8  2016.0         Nissan     370Z  49674484  20995.0  50000.0  Mississauga   \n",
       "9  2017.0           Audi       A4  49658385  22995.0  81311.0  Mississauga   \n",
       "\n",
       "  transmission drivetrain body_type colour  fuel_economy  price_delta  \\\n",
       "0    Automatic        FWD     Sedan    NaN           8.5       1722.0   \n",
       "1    Automatic        AWD     Sedan  Black           NaN        694.0   \n",
       "2    Automatic        FWD   Minivan    NaN          10.6        963.0   \n",
       "3    Automatic        FWD     Sedan   Grey           9.0          NaN   \n",
       "4    Automatic        FWD     Sedan  Black           7.1        847.0   \n",
       "5    Automatic        FWD       SUV  Black           8.2          NaN   \n",
       "6    Automatic        FWD   Minivan   Grey          10.3       2328.0   \n",
       "7    Automatic        AWD       SUV  Black           NaN       3332.0   \n",
       "8       Manual        RWD       NaN    NaN           NaN          NaN   \n",
       "9    Automatic        AWD     Sedan  Black           8.9       2119.0   \n",
       "\n",
       "  more_less  \n",
       "0     ABOVE  \n",
       "1     BELOW  \n",
       "2     ABOVE  \n",
       "3   missing  \n",
       "4     BELOW  \n",
       "5   missing  \n",
       "6     BELOW  \n",
       "7     ABOVE  \n",
       "8   missing  \n",
       "9     BELOW  "
      ]
     },
     "execution_count": 278,
     "metadata": {},
     "output_type": "execute_result"
    }
   ],
   "source": [
    "df1.head(10)"
   ]
  },
  {
   "cell_type": "code",
   "execution_count": 279,
   "metadata": {},
   "outputs": [],
   "source": [
    "list_year=[row for row in df1.year.unique().tolist() if ~np.isnan(row)]"
   ]
  },
  {
   "cell_type": "code",
   "execution_count": 280,
   "metadata": {},
   "outputs": [],
   "source": [
    "list_year.sort()"
   ]
  },
  {
   "cell_type": "code",
   "execution_count": 195,
   "metadata": {},
   "outputs": [],
   "source": [
    "df_year_notna=df1[df1['year'].notna()]"
   ]
  },
  {
   "cell_type": "code",
   "execution_count": 204,
   "metadata": {},
   "outputs": [
    {
     "data": {
      "text/plain": [
       "Text(0.5, 0, 'year')"
      ]
     },
     "execution_count": 204,
     "metadata": {},
     "output_type": "execute_result"
    },
    {
     "data": {
      "image/png": "[encoded data removed]",
      "text/plain": [
       "<Figure size 864x288 with 1 Axes>"
      ]
     },
     "metadata": {
      "needs_background": "light"
     },
     "output_type": "display_data"
    }
   ],
   "source": [
    "plt.figure(figsize=(12,4))\n",
    "plt.hist(df_year_notna['year'], bins=40,color='green')\n",
    "plt.xlabel('year')"
   ]
  },
  {
   "cell_type": "code",
   "execution_count": 178,
   "metadata": {},
   "outputs": [
    {
     "data": {
      "text/plain": [
       "Text(0.5, 0, 'count')"
      ]
     },
     "execution_count": 178,
     "metadata": {},
     "output_type": "execute_result"
    },
    {
     "data": {
      "image/png": "[encoded data removed]",
      "text/plain": [
       "<Figure size 720x720 with 1 Axes>"
      ]
     },
     "metadata": {
      "needs_background": "light"
     },
     "output_type": "display_data"
    }
   ],
   "source": [
    "plt.figure(figsize=(10,10))\n",
    "plt.rc('font', size=20)\n",
    "\n",
    "df1['year'].value_counts().plot(kind = 'barh', color = 'green').invert_yaxis()\n",
    "plt.xlabel('count')"
   ]
  },
  {
   "cell_type": "code",
   "execution_count": 343,
   "metadata": {
    "scrolled": false
   },
   "outputs": [
    {
     "data": {
      "image/png": "[encoded data removed]",
      "text/plain": [
       "<Figure size 576x576 with 1 Axes>"
      ]
     },
     "metadata": {},
     "output_type": "display_data"
    }
   ],
   "source": [
    "# Data to plot\n",
    "labels = years_counts.year\n",
    "sizes = years_counts.counts\n",
    "colors = ['red','orange','yellow','green','silver','blue','purple','pink','grey']\n",
    "plt.figure(figsize=(8,8))\n",
    "\n",
    "# Plot\n",
    "plt.pie(sizes, labels=labels, colors=colors,autopct='%1.0f%%',textprops={'fontsize': 18})\n",
    "\n",
    "plt.axis('equal')\n",
    "plt.show()"
   ]
  },
  {
   "cell_type": "markdown",
   "metadata": {},
   "source": [
    "### Counts by transmission, Bar Chart and Pie Chart(not used)"
   ]
  },
  {
   "cell_type": "code",
   "execution_count": 170,
   "metadata": {},
   "outputs": [],
   "source": [
    "tran_counts=df_tr_notna['transmission'].value_counts().reset_index().rename(columns={'index': 'transmission','transmission':'counts'})"
   ]
  },
  {
   "cell_type": "code",
   "execution_count": 179,
   "metadata": {},
   "outputs": [
    {
     "data": {
      "text/plain": [
       "Text(0.5, 0, 'count')"
      ]
     },
     "execution_count": 179,
     "metadata": {},
     "output_type": "execute_result"
    },
    {
     "data": {
      "image/png": "[encoded data removed]",
      "text/plain": [
       "<Figure size 720x720 with 1 Axes>"
      ]
     },
     "metadata": {
      "needs_background": "light"
     },
     "output_type": "display_data"
    }
   ],
   "source": [
    "plt.figure(figsize=(10,10))\n",
    "plt.rc('font', size=20)\n",
    "df_tr_notna['transmission'].value_counts().plot(kind = 'barh', color = 'green').invert_yaxis()\n",
    "plt.xlabel('count')"
   ]
  },
  {
   "cell_type": "code",
   "execution_count": 342,
   "metadata": {
    "scrolled": false
   },
   "outputs": [
    {
     "data": {
      "image/png": "[encoded data removed]",
      "text/plain": [
       "<Figure size 576x576 with 1 Axes>"
      ]
     },
     "metadata": {},
     "output_type": "display_data"
    }
   ],
   "source": [
    "# Data to plot\n",
    "labels = tran_counts.transmission\n",
    "sizes = tran_counts.counts\n",
    "colors = ['green','yellow']\n",
    "plt.figure(figsize=(8,8))\n",
    "\n",
    "# Plot\n",
    "plt.pie(sizes, labels=labels, colors=colors,autopct='%1.0f%%',textprops={'fontsize': 18})\n",
    "\n",
    "\n",
    "plt.axis('equal')\n",
    "plt.show()"
   ]
  },
  {
   "cell_type": "markdown",
   "metadata": {},
   "source": [
    "### Counts by Body Type, Bar Chart and Pie Chart(not used)"
   ]
  },
  {
   "cell_type": "code",
   "execution_count": null,
   "metadata": {},
   "outputs": [],
   "source": [
    "df_bt_notna"
   ]
  },
  {
   "cell_type": "code",
   "execution_count": 304,
   "metadata": {},
   "outputs": [],
   "source": [
    "bt_counts=df_bt_notna['body_type'].value_counts().reset_index().rename(columns={'index': 'body_type','body_type':'counts'})"
   ]
  },
  {
   "cell_type": "code",
   "execution_count": 305,
   "metadata": {},
   "outputs": [
    {
     "data": {
      "text/html": [
       "<div>\n",
       "<style scoped>\n",
       "    .dataframe tbody tr th:only-of-type {\n",
       "        vertical-align: middle;\n",
       "    }\n",
       "\n",
       "    .dataframe tbody tr th {\n",
       "        vertical-align: top;\n",
       "    }\n",
       "\n",
       "    .dataframe thead th {\n",
       "        text-align: right;\n",
       "    }\n",
       "</style>\n",
       "<table border=\"1\" class=\"dataframe\">\n",
       "  <thead>\n",
       "    <tr style=\"text-align: right;\">\n",
       "      <th></th>\n",
       "      <th>body_type</th>\n",
       "      <th>counts</th>\n",
       "    </tr>\n",
       "  </thead>\n",
       "  <tbody>\n",
       "    <tr>\n",
       "      <th>0</th>\n",
       "      <td>SUV</td>\n",
       "      <td>4581</td>\n",
       "    </tr>\n",
       "    <tr>\n",
       "      <th>1</th>\n",
       "      <td>Sedan</td>\n",
       "      <td>4456</td>\n",
       "    </tr>\n",
       "    <tr>\n",
       "      <th>2</th>\n",
       "      <td>Truck</td>\n",
       "      <td>731</td>\n",
       "    </tr>\n",
       "    <tr>\n",
       "      <th>3</th>\n",
       "      <td>Minivan</td>\n",
       "      <td>491</td>\n",
       "    </tr>\n",
       "    <tr>\n",
       "      <th>4</th>\n",
       "      <td>Coupe</td>\n",
       "      <td>436</td>\n",
       "    </tr>\n",
       "  </tbody>\n",
       "</table>\n",
       "</div>"
      ],
      "text/plain": [
       "  body_type  counts\n",
       "0       SUV    4581\n",
       "1     Sedan    4456\n",
       "2     Truck     731\n",
       "3   Minivan     491\n",
       "4     Coupe     436"
      ]
     },
     "execution_count": 305,
     "metadata": {},
     "output_type": "execute_result"
    }
   ],
   "source": [
    "bt_counts"
   ]
  },
  {
   "cell_type": "code",
   "execution_count": 181,
   "metadata": {},
   "outputs": [
    {
     "data": {
      "text/plain": [
       "Text(0.5, 0, 'count')"
      ]
     },
     "execution_count": 181,
     "metadata": {},
     "output_type": "execute_result"
    },
    {
     "data": {
      "image/png": "[encoded data removed]",
      "text/plain": [
       "<Figure size 720x720 with 1 Axes>"
      ]
     },
     "metadata": {
      "needs_background": "light"
     },
     "output_type": "display_data"
    }
   ],
   "source": [
    "plt.figure(figsize=(10,10))\n",
    "plt.rc('font', size=20)\n",
    "df_bt_notna['body_type'].value_counts().plot(kind = 'barh', color = 'green').invert_yaxis()\n",
    "plt.xlabel('count')"
   ]
  },
  {
   "cell_type": "code",
   "execution_count": 341,
   "metadata": {
    "scrolled": false
   },
   "outputs": [
    {
     "data": {
      "image/png": "[encoded data removed]",
      "text/plain": [
       "<Figure size 576x576 with 1 Axes>"
      ]
     },
     "metadata": {},
     "output_type": "display_data"
    }
   ],
   "source": [
    "# Data to plot\n",
    "labels = bt_counts.body_type\n",
    "sizes = bt_counts.counts\n",
    "colors = ['red','orange','yellow','green','pink','blue','purple','pink']\n",
    "plt.figure(figsize=(8,8))\n",
    "\n",
    "\n",
    "# Plot\n",
    "plt.pie(sizes, labels=labels, colors=colors,autopct='%1.0f%%',textprops={'fontsize': 18})\n",
    "\n",
    "\n",
    "plt.axis('equal')\n",
    "plt.show()"
   ]
  },
  {
   "cell_type": "markdown",
   "metadata": {},
   "source": [
    "### Counts by Colour, Bar Chart and Pie Chart(not used)"
   ]
  },
  {
   "cell_type": "code",
   "execution_count": 848,
   "metadata": {
    "scrolled": true
   },
   "outputs": [
    {
     "data": {
      "text/html": [
       "<div>\n",
       "<style scoped>\n",
       "    .dataframe tbody tr th:only-of-type {\n",
       "        vertical-align: middle;\n",
       "    }\n",
       "\n",
       "    .dataframe tbody tr th {\n",
       "        vertical-align: top;\n",
       "    }\n",
       "\n",
       "    .dataframe thead th {\n",
       "        text-align: right;\n",
       "    }\n",
       "</style>\n",
       "<table border=\"1\" class=\"dataframe\">\n",
       "  <thead>\n",
       "    <tr style=\"text-align: right;\">\n",
       "      <th></th>\n",
       "      <th>year</th>\n",
       "      <th>make</th>\n",
       "      <th>model</th>\n",
       "      <th>adid</th>\n",
       "      <th>price</th>\n",
       "      <th>mileage</th>\n",
       "      <th>location</th>\n",
       "      <th>transmission</th>\n",
       "      <th>drivetrain</th>\n",
       "      <th>body_type</th>\n",
       "      <th>colour</th>\n",
       "      <th>fuel_economy</th>\n",
       "      <th>price_delta</th>\n",
       "      <th>more_less</th>\n",
       "    </tr>\n",
       "  </thead>\n",
       "  <tbody>\n",
       "    <tr>\n",
       "      <th>0</th>\n",
       "      <td>2017.0</td>\n",
       "      <td>Infiniti</td>\n",
       "      <td>QX30</td>\n",
       "      <td>49667893</td>\n",
       "      <td>24788.0</td>\n",
       "      <td>34313.0</td>\n",
       "      <td>Thornhill</td>\n",
       "      <td>Automatic</td>\n",
       "      <td>FWD</td>\n",
       "      <td>Wagon</td>\n",
       "      <td>NaN</td>\n",
       "      <td>8.5</td>\n",
       "      <td>1722.0</td>\n",
       "      <td>ABOVE</td>\n",
       "    </tr>\n",
       "    <tr>\n",
       "      <th>1</th>\n",
       "      <td>2014.0</td>\n",
       "      <td>Mercedes-Benz</td>\n",
       "      <td>C-Class</td>\n",
       "      <td>49666761</td>\n",
       "      <td>17498.0</td>\n",
       "      <td>82109.0</td>\n",
       "      <td>Kitchener</td>\n",
       "      <td>Automatic</td>\n",
       "      <td>AWD</td>\n",
       "      <td>Sedan</td>\n",
       "      <td>Black</td>\n",
       "      <td>NaN</td>\n",
       "      <td>694.0</td>\n",
       "      <td>BELOW</td>\n",
       "    </tr>\n",
       "    <tr>\n",
       "      <th>2</th>\n",
       "      <td>2016.0</td>\n",
       "      <td>Honda</td>\n",
       "      <td>Odyssey</td>\n",
       "      <td>49647361</td>\n",
       "      <td>27888.0</td>\n",
       "      <td>55919.0</td>\n",
       "      <td>Concord</td>\n",
       "      <td>Automatic</td>\n",
       "      <td>FWD</td>\n",
       "      <td>Minivan</td>\n",
       "      <td>NaN</td>\n",
       "      <td>10.6</td>\n",
       "      <td>963.0</td>\n",
       "      <td>ABOVE</td>\n",
       "    </tr>\n",
       "    <tr>\n",
       "      <th>3</th>\n",
       "      <td>2015.0</td>\n",
       "      <td>Kia</td>\n",
       "      <td>Soul</td>\n",
       "      <td>49676108</td>\n",
       "      <td>13880.0</td>\n",
       "      <td>81240.0</td>\n",
       "      <td>Toronto</td>\n",
       "      <td>Automatic</td>\n",
       "      <td>FWD</td>\n",
       "      <td>Hatchback</td>\n",
       "      <td>Grey</td>\n",
       "      <td>9.0</td>\n",
       "      <td>NaN</td>\n",
       "      <td>missing</td>\n",
       "    </tr>\n",
       "    <tr>\n",
       "      <th>4</th>\n",
       "      <td>2019.0</td>\n",
       "      <td>Honda</td>\n",
       "      <td>Civic</td>\n",
       "      <td>49641921</td>\n",
       "      <td>22395.0</td>\n",
       "      <td>34128.0</td>\n",
       "      <td>Toronto</td>\n",
       "      <td>Automatic</td>\n",
       "      <td>FWD</td>\n",
       "      <td>Sedan</td>\n",
       "      <td>Black</td>\n",
       "      <td>7.1</td>\n",
       "      <td>847.0</td>\n",
       "      <td>BELOW</td>\n",
       "    </tr>\n",
       "    <tr>\n",
       "      <th>5</th>\n",
       "      <td>2018.0</td>\n",
       "      <td>Nissan</td>\n",
       "      <td>Rogue</td>\n",
       "      <td>49674691</td>\n",
       "      <td>19999.0</td>\n",
       "      <td>23000.0</td>\n",
       "      <td>London</td>\n",
       "      <td>Automatic</td>\n",
       "      <td>FWD</td>\n",
       "      <td>SUV</td>\n",
       "      <td>Black</td>\n",
       "      <td>8.2</td>\n",
       "      <td>NaN</td>\n",
       "      <td>missing</td>\n",
       "    </tr>\n",
       "    <tr>\n",
       "      <th>6</th>\n",
       "      <td>2013.0</td>\n",
       "      <td>Dodge</td>\n",
       "      <td>Grand</td>\n",
       "      <td>48850091</td>\n",
       "      <td>11995.0</td>\n",
       "      <td>63456.0</td>\n",
       "      <td>ThunderBay</td>\n",
       "      <td>Automatic</td>\n",
       "      <td>FWD</td>\n",
       "      <td>Minivan</td>\n",
       "      <td>Grey</td>\n",
       "      <td>10.3</td>\n",
       "      <td>2328.0</td>\n",
       "      <td>BELOW</td>\n",
       "    </tr>\n",
       "    <tr>\n",
       "      <th>7</th>\n",
       "      <td>2017.0</td>\n",
       "      <td>Jeep</td>\n",
       "      <td>Grand</td>\n",
       "      <td>49663387</td>\n",
       "      <td>31997.0</td>\n",
       "      <td>54544.0</td>\n",
       "      <td>Concord</td>\n",
       "      <td>Automatic</td>\n",
       "      <td>AWD</td>\n",
       "      <td>SUV</td>\n",
       "      <td>Black</td>\n",
       "      <td>NaN</td>\n",
       "      <td>3332.0</td>\n",
       "      <td>ABOVE</td>\n",
       "    </tr>\n",
       "    <tr>\n",
       "      <th>8</th>\n",
       "      <td>2016.0</td>\n",
       "      <td>Nissan</td>\n",
       "      <td>370Z</td>\n",
       "      <td>49674484</td>\n",
       "      <td>20995.0</td>\n",
       "      <td>50000.0</td>\n",
       "      <td>Mississauga</td>\n",
       "      <td>Manual</td>\n",
       "      <td>RWD</td>\n",
       "      <td>NaN</td>\n",
       "      <td>NaN</td>\n",
       "      <td>NaN</td>\n",
       "      <td>NaN</td>\n",
       "      <td>missing</td>\n",
       "    </tr>\n",
       "    <tr>\n",
       "      <th>9</th>\n",
       "      <td>2017.0</td>\n",
       "      <td>Audi</td>\n",
       "      <td>A4</td>\n",
       "      <td>49658385</td>\n",
       "      <td>22995.0</td>\n",
       "      <td>81311.0</td>\n",
       "      <td>Mississauga</td>\n",
       "      <td>Automatic</td>\n",
       "      <td>AWD</td>\n",
       "      <td>Sedan</td>\n",
       "      <td>Black</td>\n",
       "      <td>8.9</td>\n",
       "      <td>2119.0</td>\n",
       "      <td>BELOW</td>\n",
       "    </tr>\n",
       "  </tbody>\n",
       "</table>\n",
       "</div>"
      ],
      "text/plain": [
       "     year           make    model      adid    price  mileage     location  \\\n",
       "0  2017.0       Infiniti     QX30  49667893  24788.0  34313.0    Thornhill   \n",
       "1  2014.0  Mercedes-Benz  C-Class  49666761  17498.0  82109.0    Kitchener   \n",
       "2  2016.0          Honda  Odyssey  49647361  27888.0  55919.0      Concord   \n",
       "3  2015.0            Kia     Soul  49676108  13880.0  81240.0      Toronto   \n",
       "4  2019.0          Honda    Civic  49641921  22395.0  34128.0      Toronto   \n",
       "5  2018.0         Nissan    Rogue  49674691  19999.0  23000.0       London   \n",
       "6  2013.0          Dodge    Grand  48850091  11995.0  63456.0   ThunderBay   \n",
       "7  2017.0           Jeep    Grand  49663387  31997.0  54544.0      Concord   \n",
       "8  2016.0         Nissan     370Z  49674484  20995.0  50000.0  Mississauga   \n",
       "9  2017.0           Audi       A4  49658385  22995.0  81311.0  Mississauga   \n",
       "\n",
       "  transmission drivetrain  body_type colour  fuel_economy  price_delta  \\\n",
       "0    Automatic        FWD      Wagon    NaN           8.5       1722.0   \n",
       "1    Automatic        AWD      Sedan  Black           NaN        694.0   \n",
       "2    Automatic        FWD    Minivan    NaN          10.6        963.0   \n",
       "3    Automatic        FWD  Hatchback   Grey           9.0          NaN   \n",
       "4    Automatic        FWD      Sedan  Black           7.1        847.0   \n",
       "5    Automatic        FWD        SUV  Black           8.2          NaN   \n",
       "6    Automatic        FWD    Minivan   Grey          10.3       2328.0   \n",
       "7    Automatic        AWD        SUV  Black           NaN       3332.0   \n",
       "8       Manual        RWD        NaN    NaN           NaN          NaN   \n",
       "9    Automatic        AWD      Sedan  Black           8.9       2119.0   \n",
       "\n",
       "  more_less  \n",
       "0     ABOVE  \n",
       "1     BELOW  \n",
       "2     ABOVE  \n",
       "3   missing  \n",
       "4     BELOW  \n",
       "5   missing  \n",
       "6     BELOW  \n",
       "7     ABOVE  \n",
       "8   missing  \n",
       "9     BELOW  "
      ]
     },
     "execution_count": 848,
     "metadata": {},
     "output_type": "execute_result"
    }
   ],
   "source": [
    "df1.head(10)"
   ]
  },
  {
   "cell_type": "code",
   "execution_count": 183,
   "metadata": {},
   "outputs": [],
   "source": [
    "df_colour_notna=df1[df1['colour'].notna()]"
   ]
  },
  {
   "cell_type": "code",
   "execution_count": 184,
   "metadata": {},
   "outputs": [],
   "source": [
    "colour_counts=df_colour_notna.colour.value_counts().reset_index().rename(columns={'index':'colour','colour':'counts'})"
   ]
  },
  {
   "cell_type": "code",
   "execution_count": 185,
   "metadata": {
    "scrolled": true
   },
   "outputs": [],
   "source": [
    "colour_counts['colour']=colour_counts['colour'].map({'Brown':'Others','Green':'Others','Yellow':'Others','Black':'Black',\\\n",
    "                                                    'White':'White','Grey':'Grey','Silver':'Silver','Blue':'Blue','Red':'Red'})"
   ]
  },
  {
   "cell_type": "code",
   "execution_count": 186,
   "metadata": {},
   "outputs": [],
   "source": [
    "colour_counts.loc[6,'counts']=colour_counts.loc[6,'counts']+ colour_counts.loc[7,'counts']+colour_counts.loc[8,'counts']\n"
   ]
  },
  {
   "cell_type": "code",
   "execution_count": 187,
   "metadata": {},
   "outputs": [],
   "source": [
    "colour_counts.drop([7,8],axis=0,inplace=True)"
   ]
  },
  {
   "cell_type": "code",
   "execution_count": 188,
   "metadata": {},
   "outputs": [],
   "source": [
    "list_colors=colour_counts.colour.tolist()[:-1]"
   ]
  },
  {
   "cell_type": "code",
   "execution_count": 189,
   "metadata": {},
   "outputs": [],
   "source": [
    "list_colors.append('Pink')"
   ]
  },
  {
   "cell_type": "code",
   "execution_count": 190,
   "metadata": {},
   "outputs": [
    {
     "data": {
      "text/plain": [
       "['Black', 'White', 'Grey', 'Silver', 'Blue', 'Red', 'Pink']"
      ]
     },
     "execution_count": 190,
     "metadata": {},
     "output_type": "execute_result"
    }
   ],
   "source": [
    "list_colors"
   ]
  },
  {
   "cell_type": "code",
   "execution_count": 191,
   "metadata": {},
   "outputs": [
    {
     "data": {
      "text/plain": [
       "Text(0.5, 0, 'count')"
      ]
     },
     "execution_count": 191,
     "metadata": {},
     "output_type": "execute_result"
    },
    {
     "data": {
      "image/png": "[encoded data removed]",
      "text/plain": [
       "<Figure size 720x720 with 1 Axes>"
      ]
     },
     "metadata": {
      "needs_background": "light"
     },
     "output_type": "display_data"
    }
   ],
   "source": [
    "plt.figure(figsize=(10,10))\n",
    "plt.rc('font', size=20)\n",
    "df_colour_notna.colour.value_counts().plot(kind = 'barh', color = 'green').invert_yaxis()\n",
    "plt.xlabel('count')"
   ]
  },
  {
   "cell_type": "code",
   "execution_count": 344,
   "metadata": {
    "scrolled": false
   },
   "outputs": [
    {
     "data": {
      "image/png": "[encoded data removed]",
      "text/plain": [
       "<Figure size 576x576 with 1 Axes>"
      ]
     },
     "metadata": {},
     "output_type": "display_data"
    }
   ],
   "source": [
    "labels = colour_counts.colour\n",
    "sizes = colour_counts.counts\n",
    "colors = ['Purple', 'White', 'Grey', 'Silver', 'Blue', 'Red', 'Pink']\n",
    "plt.figure(figsize=(8,8))\n",
    "\n",
    "\n",
    "# Plot\n",
    "plt.pie(sizes, labels=labels, colors=colors,autopct='%1.0f%%',textprops={'fontsize': 18})\n",
    "\n",
    "\n",
    "plt.axis('equal')\n",
    "plt.show()"
   ]
  },
  {
   "cell_type": "markdown",
   "metadata": {},
   "source": [
    "### Year and Depreciation"
   ]
  },
  {
   "cell_type": "code",
   "execution_count": 3,
   "metadata": {
    "scrolled": true
   },
   "outputs": [
    {
     "data": {
      "text/html": [
       "<div>\n",
       "<style scoped>\n",
       "    .dataframe tbody tr th:only-of-type {\n",
       "        vertical-align: middle;\n",
       "    }\n",
       "\n",
       "    .dataframe tbody tr th {\n",
       "        vertical-align: top;\n",
       "    }\n",
       "\n",
       "    .dataframe thead th {\n",
       "        text-align: right;\n",
       "    }\n",
       "</style>\n",
       "<table border=\"1\" class=\"dataframe\">\n",
       "  <thead>\n",
       "    <tr style=\"text-align: right;\">\n",
       "      <th></th>\n",
       "      <th>year</th>\n",
       "      <th>make</th>\n",
       "      <th>model</th>\n",
       "      <th>adid</th>\n",
       "      <th>price</th>\n",
       "      <th>mileage</th>\n",
       "      <th>location</th>\n",
       "      <th>transmission</th>\n",
       "      <th>drivetrain</th>\n",
       "      <th>body_type</th>\n",
       "      <th>colour</th>\n",
       "      <th>fuel_economy</th>\n",
       "      <th>price_delta</th>\n",
       "      <th>more_less</th>\n",
       "    </tr>\n",
       "  </thead>\n",
       "  <tbody>\n",
       "    <tr>\n",
       "      <th>0</th>\n",
       "      <td>2017.0</td>\n",
       "      <td>Infiniti</td>\n",
       "      <td>QX30</td>\n",
       "      <td>49667893</td>\n",
       "      <td>24788.0</td>\n",
       "      <td>34313.0</td>\n",
       "      <td>Thornhill</td>\n",
       "      <td>Automatic</td>\n",
       "      <td>FWD</td>\n",
       "      <td>Wagon</td>\n",
       "      <td>NaN</td>\n",
       "      <td>8.5</td>\n",
       "      <td>1722.0</td>\n",
       "      <td>ABOVE</td>\n",
       "    </tr>\n",
       "    <tr>\n",
       "      <th>1</th>\n",
       "      <td>2014.0</td>\n",
       "      <td>Mercedes-Benz</td>\n",
       "      <td>C-Class</td>\n",
       "      <td>49666761</td>\n",
       "      <td>17498.0</td>\n",
       "      <td>82109.0</td>\n",
       "      <td>Kitchener</td>\n",
       "      <td>Automatic</td>\n",
       "      <td>AWD</td>\n",
       "      <td>Sedan</td>\n",
       "      <td>Black</td>\n",
       "      <td>NaN</td>\n",
       "      <td>694.0</td>\n",
       "      <td>BELOW</td>\n",
       "    </tr>\n",
       "    <tr>\n",
       "      <th>2</th>\n",
       "      <td>2016.0</td>\n",
       "      <td>Honda</td>\n",
       "      <td>Odyssey</td>\n",
       "      <td>49647361</td>\n",
       "      <td>27888.0</td>\n",
       "      <td>55919.0</td>\n",
       "      <td>Concord</td>\n",
       "      <td>Automatic</td>\n",
       "      <td>FWD</td>\n",
       "      <td>Minivan</td>\n",
       "      <td>NaN</td>\n",
       "      <td>10.6</td>\n",
       "      <td>963.0</td>\n",
       "      <td>ABOVE</td>\n",
       "    </tr>\n",
       "    <tr>\n",
       "      <th>3</th>\n",
       "      <td>2015.0</td>\n",
       "      <td>Kia</td>\n",
       "      <td>Soul</td>\n",
       "      <td>49676108</td>\n",
       "      <td>13880.0</td>\n",
       "      <td>81240.0</td>\n",
       "      <td>Toronto</td>\n",
       "      <td>Automatic</td>\n",
       "      <td>FWD</td>\n",
       "      <td>Hatchback</td>\n",
       "      <td>Grey</td>\n",
       "      <td>9.0</td>\n",
       "      <td>NaN</td>\n",
       "      <td>missing</td>\n",
       "    </tr>\n",
       "    <tr>\n",
       "      <th>4</th>\n",
       "      <td>2019.0</td>\n",
       "      <td>Honda</td>\n",
       "      <td>Civic</td>\n",
       "      <td>49641921</td>\n",
       "      <td>22395.0</td>\n",
       "      <td>34128.0</td>\n",
       "      <td>Toronto</td>\n",
       "      <td>Automatic</td>\n",
       "      <td>FWD</td>\n",
       "      <td>Sedan</td>\n",
       "      <td>Black</td>\n",
       "      <td>7.1</td>\n",
       "      <td>847.0</td>\n",
       "      <td>BELOW</td>\n",
       "    </tr>\n",
       "    <tr>\n",
       "      <th>5</th>\n",
       "      <td>2018.0</td>\n",
       "      <td>Nissan</td>\n",
       "      <td>Rogue</td>\n",
       "      <td>49674691</td>\n",
       "      <td>19999.0</td>\n",
       "      <td>23000.0</td>\n",
       "      <td>London</td>\n",
       "      <td>Automatic</td>\n",
       "      <td>FWD</td>\n",
       "      <td>SUV</td>\n",
       "      <td>Black</td>\n",
       "      <td>8.2</td>\n",
       "      <td>NaN</td>\n",
       "      <td>missing</td>\n",
       "    </tr>\n",
       "    <tr>\n",
       "      <th>6</th>\n",
       "      <td>2013.0</td>\n",
       "      <td>Dodge</td>\n",
       "      <td>Grand</td>\n",
       "      <td>48850091</td>\n",
       "      <td>11995.0</td>\n",
       "      <td>63456.0</td>\n",
       "      <td>ThunderBay</td>\n",
       "      <td>Automatic</td>\n",
       "      <td>FWD</td>\n",
       "      <td>Minivan</td>\n",
       "      <td>Grey</td>\n",
       "      <td>10.3</td>\n",
       "      <td>2328.0</td>\n",
       "      <td>BELOW</td>\n",
       "    </tr>\n",
       "    <tr>\n",
       "      <th>7</th>\n",
       "      <td>2017.0</td>\n",
       "      <td>Jeep</td>\n",
       "      <td>Grand</td>\n",
       "      <td>49663387</td>\n",
       "      <td>31997.0</td>\n",
       "      <td>54544.0</td>\n",
       "      <td>Concord</td>\n",
       "      <td>Automatic</td>\n",
       "      <td>AWD</td>\n",
       "      <td>SUV</td>\n",
       "      <td>Black</td>\n",
       "      <td>NaN</td>\n",
       "      <td>3332.0</td>\n",
       "      <td>ABOVE</td>\n",
       "    </tr>\n",
       "    <tr>\n",
       "      <th>8</th>\n",
       "      <td>2016.0</td>\n",
       "      <td>Nissan</td>\n",
       "      <td>370Z</td>\n",
       "      <td>49674484</td>\n",
       "      <td>20995.0</td>\n",
       "      <td>50000.0</td>\n",
       "      <td>Mississauga</td>\n",
       "      <td>Manual</td>\n",
       "      <td>RWD</td>\n",
       "      <td>NaN</td>\n",
       "      <td>NaN</td>\n",
       "      <td>NaN</td>\n",
       "      <td>NaN</td>\n",
       "      <td>missing</td>\n",
       "    </tr>\n",
       "    <tr>\n",
       "      <th>9</th>\n",
       "      <td>2017.0</td>\n",
       "      <td>Audi</td>\n",
       "      <td>A4</td>\n",
       "      <td>49658385</td>\n",
       "      <td>22995.0</td>\n",
       "      <td>81311.0</td>\n",
       "      <td>Mississauga</td>\n",
       "      <td>Automatic</td>\n",
       "      <td>AWD</td>\n",
       "      <td>Sedan</td>\n",
       "      <td>Black</td>\n",
       "      <td>8.9</td>\n",
       "      <td>2119.0</td>\n",
       "      <td>BELOW</td>\n",
       "    </tr>\n",
       "  </tbody>\n",
       "</table>\n",
       "</div>"
      ],
      "text/plain": [
       "     year           make    model      adid    price  mileage     location  \\\n",
       "0  2017.0       Infiniti     QX30  49667893  24788.0  34313.0    Thornhill   \n",
       "1  2014.0  Mercedes-Benz  C-Class  49666761  17498.0  82109.0    Kitchener   \n",
       "2  2016.0          Honda  Odyssey  49647361  27888.0  55919.0      Concord   \n",
       "3  2015.0            Kia     Soul  49676108  13880.0  81240.0      Toronto   \n",
       "4  2019.0          Honda    Civic  49641921  22395.0  34128.0      Toronto   \n",
       "5  2018.0         Nissan    Rogue  49674691  19999.0  23000.0       London   \n",
       "6  2013.0          Dodge    Grand  48850091  11995.0  63456.0   ThunderBay   \n",
       "7  2017.0           Jeep    Grand  49663387  31997.0  54544.0      Concord   \n",
       "8  2016.0         Nissan     370Z  49674484  20995.0  50000.0  Mississauga   \n",
       "9  2017.0           Audi       A4  49658385  22995.0  81311.0  Mississauga   \n",
       "\n",
       "  transmission drivetrain  body_type colour  fuel_economy  price_delta  \\\n",
       "0    Automatic        FWD      Wagon    NaN           8.5       1722.0   \n",
       "1    Automatic        AWD      Sedan  Black           NaN        694.0   \n",
       "2    Automatic        FWD    Minivan    NaN          10.6        963.0   \n",
       "3    Automatic        FWD  Hatchback   Grey           9.0          NaN   \n",
       "4    Automatic        FWD      Sedan  Black           7.1        847.0   \n",
       "5    Automatic        FWD        SUV  Black           8.2          NaN   \n",
       "6    Automatic        FWD    Minivan   Grey          10.3       2328.0   \n",
       "7    Automatic        AWD        SUV  Black           NaN       3332.0   \n",
       "8       Manual        RWD        NaN    NaN           NaN          NaN   \n",
       "9    Automatic        AWD      Sedan  Black           8.9       2119.0   \n",
       "\n",
       "  more_less  \n",
       "0     ABOVE  \n",
       "1     BELOW  \n",
       "2     ABOVE  \n",
       "3   missing  \n",
       "4     BELOW  \n",
       "5   missing  \n",
       "6     BELOW  \n",
       "7     ABOVE  \n",
       "8   missing  \n",
       "9     BELOW  "
      ]
     },
     "execution_count": 3,
     "metadata": {},
     "output_type": "execute_result"
    }
   ],
   "source": [
    "df1.head(10)"
   ]
  },
  {
   "cell_type": "code",
   "execution_count": 41,
   "metadata": {},
   "outputs": [],
   "source": [
    "df_price_notna=df1[df1['price'].notna()]"
   ]
  },
  {
   "cell_type": "code",
   "execution_count": 205,
   "metadata": {
    "scrolled": true
   },
   "outputs": [
    {
     "data": {
      "text/plain": [
       "(11490, 14)"
      ]
     },
     "execution_count": 205,
     "metadata": {},
     "output_type": "execute_result"
    }
   ],
   "source": [
    "df_price_notna.shape"
   ]
  },
  {
   "cell_type": "code",
   "execution_count": 42,
   "metadata": {},
   "outputs": [],
   "source": [
    "df_top20= df_price_notna.model.value_counts().head(20).reset_index().rename(columns={'index':'model','model':'count'})"
   ]
  },
  {
   "cell_type": "code",
   "execution_count": 43,
   "metadata": {},
   "outputs": [
    {
     "data": {
      "text/html": [
       "<div>\n",
       "<style scoped>\n",
       "    .dataframe tbody tr th:only-of-type {\n",
       "        vertical-align: middle;\n",
       "    }\n",
       "\n",
       "    .dataframe tbody tr th {\n",
       "        vertical-align: top;\n",
       "    }\n",
       "\n",
       "    .dataframe thead th {\n",
       "        text-align: right;\n",
       "    }\n",
       "</style>\n",
       "<table border=\"1\" class=\"dataframe\">\n",
       "  <thead>\n",
       "    <tr style=\"text-align: right;\">\n",
       "      <th></th>\n",
       "      <th>model</th>\n",
       "      <th>count</th>\n",
       "    </tr>\n",
       "  </thead>\n",
       "  <tbody>\n",
       "    <tr>\n",
       "      <th>0</th>\n",
       "      <td>Civic</td>\n",
       "      <td>471</td>\n",
       "    </tr>\n",
       "    <tr>\n",
       "      <th>1</th>\n",
       "      <td>Grand</td>\n",
       "      <td>360</td>\n",
       "    </tr>\n",
       "    <tr>\n",
       "      <th>2</th>\n",
       "      <td>Rogue</td>\n",
       "      <td>349</td>\n",
       "    </tr>\n",
       "    <tr>\n",
       "      <th>3</th>\n",
       "      <td>Escape</td>\n",
       "      <td>283</td>\n",
       "    </tr>\n",
       "    <tr>\n",
       "      <th>4</th>\n",
       "      <td>Elantra</td>\n",
       "      <td>274</td>\n",
       "    </tr>\n",
       "    <tr>\n",
       "      <th>5</th>\n",
       "      <td>Corolla</td>\n",
       "      <td>265</td>\n",
       "    </tr>\n",
       "    <tr>\n",
       "      <th>6</th>\n",
       "      <td>CR-V</td>\n",
       "      <td>244</td>\n",
       "    </tr>\n",
       "    <tr>\n",
       "      <th>7</th>\n",
       "      <td>1500</td>\n",
       "      <td>240</td>\n",
       "    </tr>\n",
       "    <tr>\n",
       "      <th>8</th>\n",
       "      <td>RAV4</td>\n",
       "      <td>235</td>\n",
       "    </tr>\n",
       "    <tr>\n",
       "      <th>9</th>\n",
       "      <td>Cruze</td>\n",
       "      <td>213</td>\n",
       "    </tr>\n",
       "    <tr>\n",
       "      <th>10</th>\n",
       "      <td>F-150</td>\n",
       "      <td>207</td>\n",
       "    </tr>\n",
       "    <tr>\n",
       "      <th>11</th>\n",
       "      <td>Santa</td>\n",
       "      <td>206</td>\n",
       "    </tr>\n",
       "    <tr>\n",
       "      <th>12</th>\n",
       "      <td>Edge</td>\n",
       "      <td>171</td>\n",
       "    </tr>\n",
       "    <tr>\n",
       "      <th>13</th>\n",
       "      <td>Tucson</td>\n",
       "      <td>151</td>\n",
       "    </tr>\n",
       "    <tr>\n",
       "      <th>14</th>\n",
       "      <td>Jetta</td>\n",
       "      <td>150</td>\n",
       "    </tr>\n",
       "    <tr>\n",
       "      <th>15</th>\n",
       "      <td>Cherokee</td>\n",
       "      <td>144</td>\n",
       "    </tr>\n",
       "    <tr>\n",
       "      <th>16</th>\n",
       "      <td>Golf</td>\n",
       "      <td>136</td>\n",
       "    </tr>\n",
       "    <tr>\n",
       "      <th>17</th>\n",
       "      <td>Tiguan</td>\n",
       "      <td>132</td>\n",
       "    </tr>\n",
       "    <tr>\n",
       "      <th>18</th>\n",
       "      <td>Mazda3</td>\n",
       "      <td>130</td>\n",
       "    </tr>\n",
       "    <tr>\n",
       "      <th>19</th>\n",
       "      <td>Camry</td>\n",
       "      <td>128</td>\n",
       "    </tr>\n",
       "  </tbody>\n",
       "</table>\n",
       "</div>"
      ],
      "text/plain": [
       "       model  count\n",
       "0      Civic    471\n",
       "1      Grand    360\n",
       "2      Rogue    349\n",
       "3     Escape    283\n",
       "4    Elantra    274\n",
       "5    Corolla    265\n",
       "6       CR-V    244\n",
       "7       1500    240\n",
       "8       RAV4    235\n",
       "9      Cruze    213\n",
       "10     F-150    207\n",
       "11     Santa    206\n",
       "12      Edge    171\n",
       "13    Tucson    151\n",
       "14     Jetta    150\n",
       "15  Cherokee    144\n",
       "16      Golf    136\n",
       "17    Tiguan    132\n",
       "18    Mazda3    130\n",
       "19     Camry    128"
      ]
     },
     "execution_count": 43,
     "metadata": {},
     "output_type": "execute_result"
    }
   ],
   "source": [
    "df_top20"
   ]
  },
  {
   "cell_type": "code",
   "execution_count": 44,
   "metadata": {},
   "outputs": [],
   "source": [
    "list_modelprice_2019=[]"
   ]
  },
  {
   "cell_type": "code",
   "execution_count": 45,
   "metadata": {},
   "outputs": [],
   "source": [
    "for x in df_top20.model:\n",
    "    price = df_price_notna[(df_price_notna['model']==x) & (df_price_notna['year']==2019)]['price'].mean()\n",
    "    list_modelprice_2019.append(price)"
   ]
  },
  {
   "cell_type": "code",
   "execution_count": 46,
   "metadata": {},
   "outputs": [],
   "source": [
    "df_top20['price2019']=list_modelprice_2019"
   ]
  },
  {
   "cell_type": "code",
   "execution_count": 47,
   "metadata": {},
   "outputs": [],
   "source": [
    "list_modelprice_2015=[]"
   ]
  },
  {
   "cell_type": "code",
   "execution_count": 48,
   "metadata": {},
   "outputs": [],
   "source": [
    "for x in df_top20.model:\n",
    "    price = df_price_notna[(df_price_notna['model']==x) & (df_price_notna['year']==2015)]['price'].mean()\n",
    "    list_modelprice_2015.append(price)"
   ]
  },
  {
   "cell_type": "code",
   "execution_count": 49,
   "metadata": {},
   "outputs": [],
   "source": [
    "df_top20['price2015']=list_modelprice_2015"
   ]
  },
  {
   "cell_type": "code",
   "execution_count": 50,
   "metadata": {},
   "outputs": [],
   "source": [
    "df_top20['pricedrop/year']=(df_top20['price2019']-df_top20['price2015'])/4"
   ]
  },
  {
   "cell_type": "code",
   "execution_count": null,
   "metadata": {},
   "outputs": [],
   "source": []
  },
  {
   "cell_type": "code",
   "execution_count": 51,
   "metadata": {},
   "outputs": [],
   "source": [
    "df_top20=df_top20.set_index('model')"
   ]
  },
  {
   "cell_type": "code",
   "execution_count": 84,
   "metadata": {},
   "outputs": [
    {
     "data": {
      "text/plain": [
       "Index(['Civic', 'Grand', 'Rogue', 'Escape', 'Elantra', 'Corolla', 'CR-V',\n",
       "       '1500', 'RAV4', 'Cruze', 'F-150', 'Santa', 'Edge', 'Tucson', 'Jetta',\n",
       "       'Cherokee', 'Golf', 'Tiguan', 'Mazda3', 'Camry'],\n",
       "      dtype='object', name='model')"
      ]
     },
     "execution_count": 84,
     "metadata": {},
     "output_type": "execute_result"
    }
   ],
   "source": [
    "df_top20['pricedrop/year'].index"
   ]
  },
  {
   "cell_type": "code",
   "execution_count": 97,
   "metadata": {},
   "outputs": [
    {
     "name": "stderr",
     "output_type": "stream",
     "text": [
      "<ipython-input-97-41cf98a5d22f>:15: MatplotlibDeprecationWarning: Automatic legend placement (loc='best') not implemented for figure legend. Falling back on 'upper right'. This will raise an exception in 3.3.\n",
      "  fig.legend(loc=\"best\",bbox_to_anchor=(1,1), bbox_transform=ax.transAxes)\n"
     ]
    },
    {
     "data": {
      "image/png": "[encoded data removed]",
      "text/plain": [
       "<Figure size 864x576 with 2 Axes>"
      ]
     },
     "metadata": {
      "needs_background": "light"
     },
     "output_type": "display_data"
    }
   ],
   "source": [
    "fig = plt.figure(figsize=(12, 8)) # Create matplotlib figure\n",
    "\n",
    "ax = fig.add_subplot(111) # Create matplotlib axes\n",
    "ax2 = ax.twinx() # Create another axes that shares the same x-axis as ax.\n",
    "\n",
    "width = 0.4\n",
    "\n",
    "lns1 = df_top20['pricedrop/year'].plot(kind='bar', color='blue', ax=ax, width=width, position=0, label='Price Drop/Year')\n",
    "lns2 = df_top20['count'].plot(kind='bar', color='red', ax=ax2, width=width, position=1, label='Number On Market')\n",
    "ax.set_ylabel('Count')\n",
    "ax2.set_ylabel('$')\n",
    "plt.rc('font', size=18) \n",
    "# ax.legend(loc='best')\n",
    "# ax2.legend(loc='best')\n",
    "fig.legend(loc=\"best\",bbox_to_anchor=(1,1), bbox_transform=ax.transAxes)\n",
    "\n",
    "plt.show()"
   ]
  },
  {
   "cell_type": "code",
   "execution_count": null,
   "metadata": {},
   "outputs": [],
   "source": []
  },
  {
   "cell_type": "markdown",
   "metadata": {},
   "source": [
    "### Mileage and Depreciation"
   ]
  },
  {
   "cell_type": "code",
   "execution_count": 53,
   "metadata": {},
   "outputs": [],
   "source": [
    "df_mil_notna_rounded=df_mil_notna"
   ]
  },
  {
   "cell_type": "code",
   "execution_count": 54,
   "metadata": {},
   "outputs": [
    {
     "name": "stderr",
     "output_type": "stream",
     "text": [
      "<ipython-input-54-9845d58589d8>:1: SettingWithCopyWarning: \n",
      "A value is trying to be set on a copy of a slice from a DataFrame.\n",
      "Try using .loc[row_indexer,col_indexer] = value instead\n",
      "\n",
      "See the caveats in the documentation: https://pandas.pydata.org/pandas-docs/stable/user_guide/indexing.html#returning-a-view-versus-a-copy\n",
      "  df_mil_notna_rounded['mileage']=round(df_mil_notna_rounded['mileage'],-4)\n"
     ]
    }
   ],
   "source": [
    "df_mil_notna_rounded['mileage']=round(df_mil_notna_rounded['mileage'],-4)"
   ]
  },
  {
   "cell_type": "code",
   "execution_count": 55,
   "metadata": {
    "scrolled": true
   },
   "outputs": [
    {
     "data": {
      "text/html": [
       "<div>\n",
       "<style scoped>\n",
       "    .dataframe tbody tr th:only-of-type {\n",
       "        vertical-align: middle;\n",
       "    }\n",
       "\n",
       "    .dataframe tbody tr th {\n",
       "        vertical-align: top;\n",
       "    }\n",
       "\n",
       "    .dataframe thead th {\n",
       "        text-align: right;\n",
       "    }\n",
       "</style>\n",
       "<table border=\"1\" class=\"dataframe\">\n",
       "  <thead>\n",
       "    <tr style=\"text-align: right;\">\n",
       "      <th></th>\n",
       "      <th>year</th>\n",
       "      <th>make</th>\n",
       "      <th>model</th>\n",
       "      <th>adid</th>\n",
       "      <th>price</th>\n",
       "      <th>mileage</th>\n",
       "      <th>location</th>\n",
       "      <th>transmission</th>\n",
       "      <th>drivetrain</th>\n",
       "      <th>body_type</th>\n",
       "      <th>colour</th>\n",
       "      <th>fuel_economy</th>\n",
       "      <th>price_delta</th>\n",
       "      <th>more_less</th>\n",
       "    </tr>\n",
       "  </thead>\n",
       "  <tbody>\n",
       "    <tr>\n",
       "      <th>0</th>\n",
       "      <td>2017.0</td>\n",
       "      <td>Infiniti</td>\n",
       "      <td>QX30</td>\n",
       "      <td>49667893</td>\n",
       "      <td>24788.0</td>\n",
       "      <td>30000.0</td>\n",
       "      <td>Thornhill</td>\n",
       "      <td>Automatic</td>\n",
       "      <td>FWD</td>\n",
       "      <td>Wagon</td>\n",
       "      <td>NaN</td>\n",
       "      <td>8.5</td>\n",
       "      <td>1722.0</td>\n",
       "      <td>ABOVE</td>\n",
       "    </tr>\n",
       "    <tr>\n",
       "      <th>1</th>\n",
       "      <td>2014.0</td>\n",
       "      <td>Mercedes-Benz</td>\n",
       "      <td>C-Class</td>\n",
       "      <td>49666761</td>\n",
       "      <td>17498.0</td>\n",
       "      <td>80000.0</td>\n",
       "      <td>Kitchener</td>\n",
       "      <td>Automatic</td>\n",
       "      <td>AWD</td>\n",
       "      <td>Sedan</td>\n",
       "      <td>Black</td>\n",
       "      <td>NaN</td>\n",
       "      <td>694.0</td>\n",
       "      <td>BELOW</td>\n",
       "    </tr>\n",
       "    <tr>\n",
       "      <th>2</th>\n",
       "      <td>2016.0</td>\n",
       "      <td>Honda</td>\n",
       "      <td>Odyssey</td>\n",
       "      <td>49647361</td>\n",
       "      <td>27888.0</td>\n",
       "      <td>60000.0</td>\n",
       "      <td>Concord</td>\n",
       "      <td>Automatic</td>\n",
       "      <td>FWD</td>\n",
       "      <td>Minivan</td>\n",
       "      <td>NaN</td>\n",
       "      <td>10.6</td>\n",
       "      <td>963.0</td>\n",
       "      <td>ABOVE</td>\n",
       "    </tr>\n",
       "    <tr>\n",
       "      <th>3</th>\n",
       "      <td>2015.0</td>\n",
       "      <td>Kia</td>\n",
       "      <td>Soul</td>\n",
       "      <td>49676108</td>\n",
       "      <td>13880.0</td>\n",
       "      <td>80000.0</td>\n",
       "      <td>Toronto</td>\n",
       "      <td>Automatic</td>\n",
       "      <td>FWD</td>\n",
       "      <td>Hatchback</td>\n",
       "      <td>Grey</td>\n",
       "      <td>9.0</td>\n",
       "      <td>NaN</td>\n",
       "      <td>missing</td>\n",
       "    </tr>\n",
       "    <tr>\n",
       "      <th>4</th>\n",
       "      <td>2019.0</td>\n",
       "      <td>Honda</td>\n",
       "      <td>Civic</td>\n",
       "      <td>49641921</td>\n",
       "      <td>22395.0</td>\n",
       "      <td>30000.0</td>\n",
       "      <td>Toronto</td>\n",
       "      <td>Automatic</td>\n",
       "      <td>FWD</td>\n",
       "      <td>Sedan</td>\n",
       "      <td>Black</td>\n",
       "      <td>7.1</td>\n",
       "      <td>847.0</td>\n",
       "      <td>BELOW</td>\n",
       "    </tr>\n",
       "    <tr>\n",
       "      <th>5</th>\n",
       "      <td>2018.0</td>\n",
       "      <td>Nissan</td>\n",
       "      <td>Rogue</td>\n",
       "      <td>49674691</td>\n",
       "      <td>19999.0</td>\n",
       "      <td>20000.0</td>\n",
       "      <td>London</td>\n",
       "      <td>Automatic</td>\n",
       "      <td>FWD</td>\n",
       "      <td>SUV</td>\n",
       "      <td>Black</td>\n",
       "      <td>8.2</td>\n",
       "      <td>NaN</td>\n",
       "      <td>missing</td>\n",
       "    </tr>\n",
       "    <tr>\n",
       "      <th>6</th>\n",
       "      <td>2013.0</td>\n",
       "      <td>Dodge</td>\n",
       "      <td>Grand</td>\n",
       "      <td>48850091</td>\n",
       "      <td>11995.0</td>\n",
       "      <td>60000.0</td>\n",
       "      <td>ThunderBay</td>\n",
       "      <td>Automatic</td>\n",
       "      <td>FWD</td>\n",
       "      <td>Minivan</td>\n",
       "      <td>Grey</td>\n",
       "      <td>10.3</td>\n",
       "      <td>2328.0</td>\n",
       "      <td>BELOW</td>\n",
       "    </tr>\n",
       "    <tr>\n",
       "      <th>7</th>\n",
       "      <td>2017.0</td>\n",
       "      <td>Jeep</td>\n",
       "      <td>Grand</td>\n",
       "      <td>49663387</td>\n",
       "      <td>31997.0</td>\n",
       "      <td>50000.0</td>\n",
       "      <td>Concord</td>\n",
       "      <td>Automatic</td>\n",
       "      <td>AWD</td>\n",
       "      <td>SUV</td>\n",
       "      <td>Black</td>\n",
       "      <td>NaN</td>\n",
       "      <td>3332.0</td>\n",
       "      <td>ABOVE</td>\n",
       "    </tr>\n",
       "    <tr>\n",
       "      <th>8</th>\n",
       "      <td>2016.0</td>\n",
       "      <td>Nissan</td>\n",
       "      <td>370Z</td>\n",
       "      <td>49674484</td>\n",
       "      <td>20995.0</td>\n",
       "      <td>50000.0</td>\n",
       "      <td>Mississauga</td>\n",
       "      <td>Manual</td>\n",
       "      <td>RWD</td>\n",
       "      <td>NaN</td>\n",
       "      <td>NaN</td>\n",
       "      <td>NaN</td>\n",
       "      <td>NaN</td>\n",
       "      <td>missing</td>\n",
       "    </tr>\n",
       "    <tr>\n",
       "      <th>9</th>\n",
       "      <td>2017.0</td>\n",
       "      <td>Audi</td>\n",
       "      <td>A4</td>\n",
       "      <td>49658385</td>\n",
       "      <td>22995.0</td>\n",
       "      <td>80000.0</td>\n",
       "      <td>Mississauga</td>\n",
       "      <td>Automatic</td>\n",
       "      <td>AWD</td>\n",
       "      <td>Sedan</td>\n",
       "      <td>Black</td>\n",
       "      <td>8.9</td>\n",
       "      <td>2119.0</td>\n",
       "      <td>BELOW</td>\n",
       "    </tr>\n",
       "  </tbody>\n",
       "</table>\n",
       "</div>"
      ],
      "text/plain": [
       "     year           make    model      adid    price  mileage     location  \\\n",
       "0  2017.0       Infiniti     QX30  49667893  24788.0  30000.0    Thornhill   \n",
       "1  2014.0  Mercedes-Benz  C-Class  49666761  17498.0  80000.0    Kitchener   \n",
       "2  2016.0          Honda  Odyssey  49647361  27888.0  60000.0      Concord   \n",
       "3  2015.0            Kia     Soul  49676108  13880.0  80000.0      Toronto   \n",
       "4  2019.0          Honda    Civic  49641921  22395.0  30000.0      Toronto   \n",
       "5  2018.0         Nissan    Rogue  49674691  19999.0  20000.0       London   \n",
       "6  2013.0          Dodge    Grand  48850091  11995.0  60000.0   ThunderBay   \n",
       "7  2017.0           Jeep    Grand  49663387  31997.0  50000.0      Concord   \n",
       "8  2016.0         Nissan     370Z  49674484  20995.0  50000.0  Mississauga   \n",
       "9  2017.0           Audi       A4  49658385  22995.0  80000.0  Mississauga   \n",
       "\n",
       "  transmission drivetrain  body_type colour  fuel_economy  price_delta  \\\n",
       "0    Automatic        FWD      Wagon    NaN           8.5       1722.0   \n",
       "1    Automatic        AWD      Sedan  Black           NaN        694.0   \n",
       "2    Automatic        FWD    Minivan    NaN          10.6        963.0   \n",
       "3    Automatic        FWD  Hatchback   Grey           9.0          NaN   \n",
       "4    Automatic        FWD      Sedan  Black           7.1        847.0   \n",
       "5    Automatic        FWD        SUV  Black           8.2          NaN   \n",
       "6    Automatic        FWD    Minivan   Grey          10.3       2328.0   \n",
       "7    Automatic        AWD        SUV  Black           NaN       3332.0   \n",
       "8       Manual        RWD        NaN    NaN           NaN          NaN   \n",
       "9    Automatic        AWD      Sedan  Black           8.9       2119.0   \n",
       "\n",
       "  more_less  \n",
       "0     ABOVE  \n",
       "1     BELOW  \n",
       "2     ABOVE  \n",
       "3   missing  \n",
       "4     BELOW  \n",
       "5   missing  \n",
       "6     BELOW  \n",
       "7     ABOVE  \n",
       "8   missing  \n",
       "9     BELOW  "
      ]
     },
     "execution_count": 55,
     "metadata": {},
     "output_type": "execute_result"
    }
   ],
   "source": [
    "df_mil_notna_rounded.head(10)"
   ]
  },
  {
   "cell_type": "code",
   "execution_count": 56,
   "metadata": {
    "scrolled": false
   },
   "outputs": [
    {
     "data": {
      "text/plain": [
       "50000.0     1343\n",
       "40000.0     1173\n",
       "60000.0     1104\n",
       "30000.0      971\n",
       "70000.0      936\n",
       "80000.0      863\n",
       "20000.0      852\n",
       "10000.0      640\n",
       "90000.0      639\n",
       "100000.0     570\n",
       "110000.0     426\n",
       "0.0          414\n",
       "120000.0     405\n",
       "130000.0     295\n",
       "140000.0     267\n",
       "150000.0     187\n",
       "160000.0     127\n",
       "170000.0      70\n",
       "190000.0      54\n",
       "180000.0      49\n",
       "210000.0      24\n",
       "200000.0      22\n",
       "220000.0      17\n",
       "240000.0      10\n",
       "230000.0       9\n",
       "260000.0       7\n",
       "250000.0       7\n",
       "290000.0       4\n",
       "270000.0       3\n",
       "280000.0       1\n",
       "360000.0       1\n",
       "Name: mileage, dtype: int64"
      ]
     },
     "execution_count": 56,
     "metadata": {},
     "output_type": "execute_result"
    }
   ],
   "source": [
    "df_mil_notna_rounded['mileage'].value_counts()"
   ]
  },
  {
   "cell_type": "code",
   "execution_count": 57,
   "metadata": {},
   "outputs": [],
   "source": [
    "list_modelprice_hi_mil=[]"
   ]
  },
  {
   "cell_type": "code",
   "execution_count": 58,
   "metadata": {},
   "outputs": [],
   "source": [
    "for x in df_top20.index:\n",
    "    price = df_mil_notna_rounded[(df_mil_notna_rounded['model']==x) & (df_mil_notna_rounded['mileage']==100000)]['price'].mean()\n",
    "    list_modelprice_hi_mil.append(price)"
   ]
  },
  {
   "cell_type": "code",
   "execution_count": 59,
   "metadata": {},
   "outputs": [],
   "source": [
    "df_top20['price_100000km']=list_modelprice_hi_mil"
   ]
  },
  {
   "cell_type": "code",
   "execution_count": 60,
   "metadata": {},
   "outputs": [],
   "source": [
    "list_modelprice_low_mil=[]"
   ]
  },
  {
   "cell_type": "code",
   "execution_count": 61,
   "metadata": {},
   "outputs": [],
   "source": [
    "for x in df_top20.index:\n",
    "    price = df_mil_notna_rounded[(df_mil_notna_rounded['model']==x) & (df_mil_notna_rounded['mileage']==20000)]['price'].mean()\n",
    "    list_modelprice_low_mil.append(price)"
   ]
  },
  {
   "cell_type": "code",
   "execution_count": 63,
   "metadata": {},
   "outputs": [],
   "source": [
    "df_top20['price_20000km']=list_modelprice_low_mil"
   ]
  },
  {
   "cell_type": "code",
   "execution_count": 65,
   "metadata": {},
   "outputs": [],
   "source": [
    "df_top20['pricedrop/10000km']=(df_top20['price_20000km']-df_top20['price_100000km'])/8"
   ]
  },
  {
   "cell_type": "code",
   "execution_count": 67,
   "metadata": {},
   "outputs": [
    {
     "data": {
      "text/html": [
       "<div>\n",
       "<style scoped>\n",
       "    .dataframe tbody tr th:only-of-type {\n",
       "        vertical-align: middle;\n",
       "    }\n",
       "\n",
       "    .dataframe tbody tr th {\n",
       "        vertical-align: top;\n",
       "    }\n",
       "\n",
       "    .dataframe thead th {\n",
       "        text-align: right;\n",
       "    }\n",
       "</style>\n",
       "<table border=\"1\" class=\"dataframe\">\n",
       "  <thead>\n",
       "    <tr style=\"text-align: right;\">\n",
       "      <th></th>\n",
       "      <th>count</th>\n",
       "      <th>price2019</th>\n",
       "      <th>price2015</th>\n",
       "      <th>pricedrop/year</th>\n",
       "      <th>price_100000km</th>\n",
       "      <th>price_20000km</th>\n",
       "      <th>pricedrop/10000km</th>\n",
       "    </tr>\n",
       "    <tr>\n",
       "      <th>model</th>\n",
       "      <th></th>\n",
       "      <th></th>\n",
       "      <th></th>\n",
       "      <th></th>\n",
       "      <th></th>\n",
       "      <th></th>\n",
       "      <th></th>\n",
       "    </tr>\n",
       "  </thead>\n",
       "  <tbody>\n",
       "    <tr>\n",
       "      <th>Civic</th>\n",
       "      <td>471</td>\n",
       "      <td>22044.106061</td>\n",
       "      <td>12781.325581</td>\n",
       "      <td>2315.695120</td>\n",
       "      <td>15387.650000</td>\n",
       "      <td>21142.550000</td>\n",
       "      <td>719.362500</td>\n",
       "    </tr>\n",
       "    <tr>\n",
       "      <th>Grand</th>\n",
       "      <td>360</td>\n",
       "      <td>31012.736842</td>\n",
       "      <td>17081.659091</td>\n",
       "      <td>3482.769438</td>\n",
       "      <td>17626.500000</td>\n",
       "      <td>35452.625000</td>\n",
       "      <td>2228.265625</td>\n",
       "    </tr>\n",
       "    <tr>\n",
       "      <th>Rogue</th>\n",
       "      <td>349</td>\n",
       "      <td>23914.842105</td>\n",
       "      <td>15316.324324</td>\n",
       "      <td>2149.629445</td>\n",
       "      <td>14675.000000</td>\n",
       "      <td>26801.428571</td>\n",
       "      <td>1515.803571</td>\n",
       "    </tr>\n",
       "    <tr>\n",
       "      <th>Escape</th>\n",
       "      <td>283</td>\n",
       "      <td>25703.882353</td>\n",
       "      <td>14595.250000</td>\n",
       "      <td>2777.158088</td>\n",
       "      <td>16011.888889</td>\n",
       "      <td>26387.115385</td>\n",
       "      <td>1296.903312</td>\n",
       "    </tr>\n",
       "    <tr>\n",
       "      <th>Elantra</th>\n",
       "      <td>274</td>\n",
       "      <td>18139.656250</td>\n",
       "      <td>10343.823529</td>\n",
       "      <td>1948.958180</td>\n",
       "      <td>12281.750000</td>\n",
       "      <td>18298.600000</td>\n",
       "      <td>752.106250</td>\n",
       "    </tr>\n",
       "    <tr>\n",
       "      <th>Corolla</th>\n",
       "      <td>265</td>\n",
       "      <td>19270.729167</td>\n",
       "      <td>13169.441176</td>\n",
       "      <td>1525.321998</td>\n",
       "      <td>13976.888889</td>\n",
       "      <td>18715.857143</td>\n",
       "      <td>592.371032</td>\n",
       "    </tr>\n",
       "    <tr>\n",
       "      <th>CR-V</th>\n",
       "      <td>244</td>\n",
       "      <td>31736.181818</td>\n",
       "      <td>17078.333333</td>\n",
       "      <td>3664.462121</td>\n",
       "      <td>20529.055556</td>\n",
       "      <td>30243.125000</td>\n",
       "      <td>1214.258681</td>\n",
       "    </tr>\n",
       "    <tr>\n",
       "      <th>1500</th>\n",
       "      <td>240</td>\n",
       "      <td>44562.924528</td>\n",
       "      <td>24609.434783</td>\n",
       "      <td>4988.372436</td>\n",
       "      <td>29595.733333</td>\n",
       "      <td>45391.238095</td>\n",
       "      <td>1974.438095</td>\n",
       "    </tr>\n",
       "    <tr>\n",
       "      <th>RAV4</th>\n",
       "      <td>235</td>\n",
       "      <td>30426.138889</td>\n",
       "      <td>17544.285714</td>\n",
       "      <td>3220.463294</td>\n",
       "      <td>18245.181818</td>\n",
       "      <td>31489.714286</td>\n",
       "      <td>1655.566558</td>\n",
       "    </tr>\n",
       "    <tr>\n",
       "      <th>Cruze</th>\n",
       "      <td>213</td>\n",
       "      <td>18866.727273</td>\n",
       "      <td>10885.956522</td>\n",
       "      <td>1995.192688</td>\n",
       "      <td>10230.666667</td>\n",
       "      <td>18183.750000</td>\n",
       "      <td>994.135417</td>\n",
       "    </tr>\n",
       "    <tr>\n",
       "      <th>F-150</th>\n",
       "      <td>207</td>\n",
       "      <td>51382.967742</td>\n",
       "      <td>30586.600000</td>\n",
       "      <td>5199.091935</td>\n",
       "      <td>36461.300000</td>\n",
       "      <td>47394.083333</td>\n",
       "      <td>1366.597917</td>\n",
       "    </tr>\n",
       "    <tr>\n",
       "      <th>Santa</th>\n",
       "      <td>206</td>\n",
       "      <td>26021.355932</td>\n",
       "      <td>15997.666667</td>\n",
       "      <td>2505.922316</td>\n",
       "      <td>17057.000000</td>\n",
       "      <td>31286.384615</td>\n",
       "      <td>1778.673077</td>\n",
       "    </tr>\n",
       "    <tr>\n",
       "      <th>Edge</th>\n",
       "      <td>171</td>\n",
       "      <td>36664.075000</td>\n",
       "      <td>20254.222222</td>\n",
       "      <td>4102.463194</td>\n",
       "      <td>20799.571429</td>\n",
       "      <td>37981.307692</td>\n",
       "      <td>2147.717033</td>\n",
       "    </tr>\n",
       "    <tr>\n",
       "      <th>Tucson</th>\n",
       "      <td>151</td>\n",
       "      <td>22753.112903</td>\n",
       "      <td>14446.500000</td>\n",
       "      <td>2076.653226</td>\n",
       "      <td>17237.300000</td>\n",
       "      <td>27041.142857</td>\n",
       "      <td>1225.480357</td>\n",
       "    </tr>\n",
       "    <tr>\n",
       "      <th>Jetta</th>\n",
       "      <td>150</td>\n",
       "      <td>21627.368421</td>\n",
       "      <td>12029.450000</td>\n",
       "      <td>2399.479605</td>\n",
       "      <td>12546.300000</td>\n",
       "      <td>20773.800000</td>\n",
       "      <td>1028.437500</td>\n",
       "    </tr>\n",
       "    <tr>\n",
       "      <th>Cherokee</th>\n",
       "      <td>144</td>\n",
       "      <td>30012.826087</td>\n",
       "      <td>18010.789474</td>\n",
       "      <td>3000.509153</td>\n",
       "      <td>19635.583333</td>\n",
       "      <td>32922.777778</td>\n",
       "      <td>1660.899306</td>\n",
       "    </tr>\n",
       "    <tr>\n",
       "      <th>Golf</th>\n",
       "      <td>136</td>\n",
       "      <td>20663.859375</td>\n",
       "      <td>13066.600000</td>\n",
       "      <td>1899.314844</td>\n",
       "      <td>14479.714286</td>\n",
       "      <td>20745.250000</td>\n",
       "      <td>783.191964</td>\n",
       "    </tr>\n",
       "    <tr>\n",
       "      <th>Tiguan</th>\n",
       "      <td>132</td>\n",
       "      <td>26217.520000</td>\n",
       "      <td>14590.200000</td>\n",
       "      <td>2906.830000</td>\n",
       "      <td>17230.285714</td>\n",
       "      <td>28372.900000</td>\n",
       "      <td>1392.826786</td>\n",
       "    </tr>\n",
       "    <tr>\n",
       "      <th>Mazda3</th>\n",
       "      <td>130</td>\n",
       "      <td>23674.785714</td>\n",
       "      <td>10973.307692</td>\n",
       "      <td>3175.369505</td>\n",
       "      <td>12344.500000</td>\n",
       "      <td>20932.500000</td>\n",
       "      <td>1073.500000</td>\n",
       "    </tr>\n",
       "    <tr>\n",
       "      <th>Camry</th>\n",
       "      <td>128</td>\n",
       "      <td>24268.970588</td>\n",
       "      <td>16025.642857</td>\n",
       "      <td>2060.831933</td>\n",
       "      <td>15831.200000</td>\n",
       "      <td>29942.000000</td>\n",
       "      <td>1763.850000</td>\n",
       "    </tr>\n",
       "  </tbody>\n",
       "</table>\n",
       "</div>"
      ],
      "text/plain": [
       "          count     price2019     price2015  pricedrop/year  price_100000km  \\\n",
       "model                                                                         \n",
       "Civic       471  22044.106061  12781.325581     2315.695120    15387.650000   \n",
       "Grand       360  31012.736842  17081.659091     3482.769438    17626.500000   \n",
       "Rogue       349  23914.842105  15316.324324     2149.629445    14675.000000   \n",
       "Escape      283  25703.882353  14595.250000     2777.158088    16011.888889   \n",
       "Elantra     274  18139.656250  10343.823529     1948.958180    12281.750000   \n",
       "Corolla     265  19270.729167  13169.441176     1525.321998    13976.888889   \n",
       "CR-V        244  31736.181818  17078.333333     3664.462121    20529.055556   \n",
       "1500        240  44562.924528  24609.434783     4988.372436    29595.733333   \n",
       "RAV4        235  30426.138889  17544.285714     3220.463294    18245.181818   \n",
       "Cruze       213  18866.727273  10885.956522     1995.192688    10230.666667   \n",
       "F-150       207  51382.967742  30586.600000     5199.091935    36461.300000   \n",
       "Santa       206  26021.355932  15997.666667     2505.922316    17057.000000   \n",
       "Edge        171  36664.075000  20254.222222     4102.463194    20799.571429   \n",
       "Tucson      151  22753.112903  14446.500000     2076.653226    17237.300000   \n",
       "Jetta       150  21627.368421  12029.450000     2399.479605    12546.300000   \n",
       "Cherokee    144  30012.826087  18010.789474     3000.509153    19635.583333   \n",
       "Golf        136  20663.859375  13066.600000     1899.314844    14479.714286   \n",
       "Tiguan      132  26217.520000  14590.200000     2906.830000    17230.285714   \n",
       "Mazda3      130  23674.785714  10973.307692     3175.369505    12344.500000   \n",
       "Camry       128  24268.970588  16025.642857     2060.831933    15831.200000   \n",
       "\n",
       "          price_20000km  pricedrop/10000km  \n",
       "model                                       \n",
       "Civic      21142.550000         719.362500  \n",
       "Grand      35452.625000        2228.265625  \n",
       "Rogue      26801.428571        1515.803571  \n",
       "Escape     26387.115385        1296.903312  \n",
       "Elantra    18298.600000         752.106250  \n",
       "Corolla    18715.857143         592.371032  \n",
       "CR-V       30243.125000        1214.258681  \n",
       "1500       45391.238095        1974.438095  \n",
       "RAV4       31489.714286        1655.566558  \n",
       "Cruze      18183.750000         994.135417  \n",
       "F-150      47394.083333        1366.597917  \n",
       "Santa      31286.384615        1778.673077  \n",
       "Edge       37981.307692        2147.717033  \n",
       "Tucson     27041.142857        1225.480357  \n",
       "Jetta      20773.800000        1028.437500  \n",
       "Cherokee   32922.777778        1660.899306  \n",
       "Golf       20745.250000         783.191964  \n",
       "Tiguan     28372.900000        1392.826786  \n",
       "Mazda3     20932.500000        1073.500000  \n",
       "Camry      29942.000000        1763.850000  "
      ]
     },
     "execution_count": 67,
     "metadata": {},
     "output_type": "execute_result"
    }
   ],
   "source": [
    "df_top20"
   ]
  },
  {
   "cell_type": "code",
   "execution_count": 69,
   "metadata": {
    "scrolled": false
   },
   "outputs": [
    {
     "data": {
      "image/png": "[encoded data removed]",
      "text/plain": [
       "<Figure size 864x576 with 2 Axes>"
      ]
     },
     "metadata": {
      "needs_background": "light"
     },
     "output_type": "display_data"
    }
   ],
   "source": [
    "fig = plt.figure(figsize=(12, 8)) # Create matplotlib figure\n",
    "\n",
    "ax = fig.add_subplot(111) # Create matplotlib axes\n",
    "ax2 = ax.twinx() # Create another axes that shares the same x-axis as ax.\n",
    "\n",
    "width = 0.4\n",
    "\n",
    "df_top20['count'].plot(kind='bar', color='red', ax=ax, width=width, position=1)\n",
    "df_top20['pricedrop/10000km'].plot(kind='bar', color='blue', ax=ax2, width=width, position=0, label='Price Drop/10000km')\n",
    "\n",
    "ax.set_ylabel('Count')\n",
    "ax2.set_ylabel('$')\n",
    "plt.rc('font', size=18) \n",
    "plt.legend()\n",
    "plt.show()"
   ]
  },
  {
   "cell_type": "markdown",
   "metadata": {},
   "source": [
    "### Location and Model"
   ]
  },
  {
   "cell_type": "code",
   "execution_count": 164,
   "metadata": {},
   "outputs": [
    {
     "data": {
      "text/html": [
       "<div>\n",
       "<style scoped>\n",
       "    .dataframe tbody tr th:only-of-type {\n",
       "        vertical-align: middle;\n",
       "    }\n",
       "\n",
       "    .dataframe tbody tr th {\n",
       "        vertical-align: top;\n",
       "    }\n",
       "\n",
       "    .dataframe thead th {\n",
       "        text-align: right;\n",
       "    }\n",
       "</style>\n",
       "<table border=\"1\" class=\"dataframe\">\n",
       "  <thead>\n",
       "    <tr style=\"text-align: right;\">\n",
       "      <th></th>\n",
       "      <th>year</th>\n",
       "      <th>make</th>\n",
       "      <th>model</th>\n",
       "      <th>adid</th>\n",
       "      <th>price</th>\n",
       "      <th>mileage</th>\n",
       "      <th>location</th>\n",
       "      <th>transmission</th>\n",
       "      <th>drivetrain</th>\n",
       "      <th>body_type</th>\n",
       "      <th>colour</th>\n",
       "      <th>fuel_economy</th>\n",
       "      <th>price_delta</th>\n",
       "      <th>more_less</th>\n",
       "    </tr>\n",
       "  </thead>\n",
       "  <tbody>\n",
       "    <tr>\n",
       "      <th>0</th>\n",
       "      <td>2017.0</td>\n",
       "      <td>Infiniti</td>\n",
       "      <td>QX30</td>\n",
       "      <td>49667893</td>\n",
       "      <td>24788.0</td>\n",
       "      <td>34313.0</td>\n",
       "      <td>Thornhill</td>\n",
       "      <td>Automatic</td>\n",
       "      <td>FWD</td>\n",
       "      <td>Wagon</td>\n",
       "      <td>NaN</td>\n",
       "      <td>8.5</td>\n",
       "      <td>1722.0</td>\n",
       "      <td>ABOVE</td>\n",
       "    </tr>\n",
       "    <tr>\n",
       "      <th>1</th>\n",
       "      <td>2014.0</td>\n",
       "      <td>Mercedes-Benz</td>\n",
       "      <td>C-Class</td>\n",
       "      <td>49666761</td>\n",
       "      <td>17498.0</td>\n",
       "      <td>82109.0</td>\n",
       "      <td>Kitchener</td>\n",
       "      <td>Automatic</td>\n",
       "      <td>AWD</td>\n",
       "      <td>Sedan</td>\n",
       "      <td>Black</td>\n",
       "      <td>NaN</td>\n",
       "      <td>694.0</td>\n",
       "      <td>BELOW</td>\n",
       "    </tr>\n",
       "    <tr>\n",
       "      <th>2</th>\n",
       "      <td>2016.0</td>\n",
       "      <td>Honda</td>\n",
       "      <td>Odyssey</td>\n",
       "      <td>49647361</td>\n",
       "      <td>27888.0</td>\n",
       "      <td>55919.0</td>\n",
       "      <td>Concord</td>\n",
       "      <td>Automatic</td>\n",
       "      <td>FWD</td>\n",
       "      <td>Minivan</td>\n",
       "      <td>NaN</td>\n",
       "      <td>10.6</td>\n",
       "      <td>963.0</td>\n",
       "      <td>ABOVE</td>\n",
       "    </tr>\n",
       "    <tr>\n",
       "      <th>3</th>\n",
       "      <td>2015.0</td>\n",
       "      <td>Kia</td>\n",
       "      <td>Soul</td>\n",
       "      <td>49676108</td>\n",
       "      <td>13880.0</td>\n",
       "      <td>81240.0</td>\n",
       "      <td>Toronto</td>\n",
       "      <td>Automatic</td>\n",
       "      <td>FWD</td>\n",
       "      <td>Hatchback</td>\n",
       "      <td>Grey</td>\n",
       "      <td>9.0</td>\n",
       "      <td>NaN</td>\n",
       "      <td>missing</td>\n",
       "    </tr>\n",
       "    <tr>\n",
       "      <th>4</th>\n",
       "      <td>2019.0</td>\n",
       "      <td>Honda</td>\n",
       "      <td>Civic</td>\n",
       "      <td>49641921</td>\n",
       "      <td>22395.0</td>\n",
       "      <td>34128.0</td>\n",
       "      <td>Toronto</td>\n",
       "      <td>Automatic</td>\n",
       "      <td>FWD</td>\n",
       "      <td>Sedan</td>\n",
       "      <td>Black</td>\n",
       "      <td>7.1</td>\n",
       "      <td>847.0</td>\n",
       "      <td>BELOW</td>\n",
       "    </tr>\n",
       "    <tr>\n",
       "      <th>5</th>\n",
       "      <td>2018.0</td>\n",
       "      <td>Nissan</td>\n",
       "      <td>Rogue</td>\n",
       "      <td>49674691</td>\n",
       "      <td>19999.0</td>\n",
       "      <td>23000.0</td>\n",
       "      <td>London</td>\n",
       "      <td>Automatic</td>\n",
       "      <td>FWD</td>\n",
       "      <td>SUV</td>\n",
       "      <td>Black</td>\n",
       "      <td>8.2</td>\n",
       "      <td>NaN</td>\n",
       "      <td>missing</td>\n",
       "    </tr>\n",
       "    <tr>\n",
       "      <th>6</th>\n",
       "      <td>2013.0</td>\n",
       "      <td>Dodge</td>\n",
       "      <td>Grand</td>\n",
       "      <td>48850091</td>\n",
       "      <td>11995.0</td>\n",
       "      <td>63456.0</td>\n",
       "      <td>ThunderBay</td>\n",
       "      <td>Automatic</td>\n",
       "      <td>FWD</td>\n",
       "      <td>Minivan</td>\n",
       "      <td>Grey</td>\n",
       "      <td>10.3</td>\n",
       "      <td>2328.0</td>\n",
       "      <td>BELOW</td>\n",
       "    </tr>\n",
       "    <tr>\n",
       "      <th>7</th>\n",
       "      <td>2017.0</td>\n",
       "      <td>Jeep</td>\n",
       "      <td>Grand</td>\n",
       "      <td>49663387</td>\n",
       "      <td>31997.0</td>\n",
       "      <td>54544.0</td>\n",
       "      <td>Concord</td>\n",
       "      <td>Automatic</td>\n",
       "      <td>AWD</td>\n",
       "      <td>SUV</td>\n",
       "      <td>Black</td>\n",
       "      <td>NaN</td>\n",
       "      <td>3332.0</td>\n",
       "      <td>ABOVE</td>\n",
       "    </tr>\n",
       "    <tr>\n",
       "      <th>8</th>\n",
       "      <td>2016.0</td>\n",
       "      <td>Nissan</td>\n",
       "      <td>370Z</td>\n",
       "      <td>49674484</td>\n",
       "      <td>20995.0</td>\n",
       "      <td>50000.0</td>\n",
       "      <td>Mississauga</td>\n",
       "      <td>Manual</td>\n",
       "      <td>RWD</td>\n",
       "      <td>NaN</td>\n",
       "      <td>NaN</td>\n",
       "      <td>NaN</td>\n",
       "      <td>NaN</td>\n",
       "      <td>missing</td>\n",
       "    </tr>\n",
       "    <tr>\n",
       "      <th>9</th>\n",
       "      <td>2017.0</td>\n",
       "      <td>Audi</td>\n",
       "      <td>A4</td>\n",
       "      <td>49658385</td>\n",
       "      <td>22995.0</td>\n",
       "      <td>81311.0</td>\n",
       "      <td>Mississauga</td>\n",
       "      <td>Automatic</td>\n",
       "      <td>AWD</td>\n",
       "      <td>Sedan</td>\n",
       "      <td>Black</td>\n",
       "      <td>8.9</td>\n",
       "      <td>2119.0</td>\n",
       "      <td>BELOW</td>\n",
       "    </tr>\n",
       "  </tbody>\n",
       "</table>\n",
       "</div>"
      ],
      "text/plain": [
       "     year           make    model      adid    price  mileage     location  \\\n",
       "0  2017.0       Infiniti     QX30  49667893  24788.0  34313.0    Thornhill   \n",
       "1  2014.0  Mercedes-Benz  C-Class  49666761  17498.0  82109.0    Kitchener   \n",
       "2  2016.0          Honda  Odyssey  49647361  27888.0  55919.0      Concord   \n",
       "3  2015.0            Kia     Soul  49676108  13880.0  81240.0      Toronto   \n",
       "4  2019.0          Honda    Civic  49641921  22395.0  34128.0      Toronto   \n",
       "5  2018.0         Nissan    Rogue  49674691  19999.0  23000.0       London   \n",
       "6  2013.0          Dodge    Grand  48850091  11995.0  63456.0   ThunderBay   \n",
       "7  2017.0           Jeep    Grand  49663387  31997.0  54544.0      Concord   \n",
       "8  2016.0         Nissan     370Z  49674484  20995.0  50000.0  Mississauga   \n",
       "9  2017.0           Audi       A4  49658385  22995.0  81311.0  Mississauga   \n",
       "\n",
       "  transmission drivetrain  body_type colour  fuel_economy  price_delta  \\\n",
       "0    Automatic        FWD      Wagon    NaN           8.5       1722.0   \n",
       "1    Automatic        AWD      Sedan  Black           NaN        694.0   \n",
       "2    Automatic        FWD    Minivan    NaN          10.6        963.0   \n",
       "3    Automatic        FWD  Hatchback   Grey           9.0          NaN   \n",
       "4    Automatic        FWD      Sedan  Black           7.1        847.0   \n",
       "5    Automatic        FWD        SUV  Black           8.2          NaN   \n",
       "6    Automatic        FWD    Minivan   Grey          10.3       2328.0   \n",
       "7    Automatic        AWD        SUV  Black           NaN       3332.0   \n",
       "8       Manual        RWD        NaN    NaN           NaN          NaN   \n",
       "9    Automatic        AWD      Sedan  Black           8.9       2119.0   \n",
       "\n",
       "  more_less  \n",
       "0     ABOVE  \n",
       "1     BELOW  \n",
       "2     ABOVE  \n",
       "3   missing  \n",
       "4     BELOW  \n",
       "5   missing  \n",
       "6     BELOW  \n",
       "7     ABOVE  \n",
       "8   missing  \n",
       "9     BELOW  "
      ]
     },
     "execution_count": 164,
     "metadata": {},
     "output_type": "execute_result"
    }
   ],
   "source": [
    "df1.head(10)"
   ]
  },
  {
   "cell_type": "code",
   "execution_count": 111,
   "metadata": {},
   "outputs": [],
   "source": [
    "list_top20_locations=df1['location'].value_counts().head(20).index.tolist()"
   ]
  },
  {
   "cell_type": "code",
   "execution_count": 160,
   "metadata": {},
   "outputs": [
    {
     "data": {
      "text/plain": [
       "20"
      ]
     },
     "execution_count": 160,
     "metadata": {},
     "output_type": "execute_result"
    }
   ],
   "source": [
    "len(list_top20_locations)"
   ]
  },
  {
   "cell_type": "code",
   "execution_count": 182,
   "metadata": {},
   "outputs": [],
   "source": [
    "df1_top20_locations=df1[df1['location'].isin(list_top20_locations)]"
   ]
  },
  {
   "cell_type": "code",
   "execution_count": null,
   "metadata": {},
   "outputs": [],
   "source": [
    "pd.DataFrame(df1_top20_locations.groupby(['location','model']).size()).sort_values(['location',0],ascending=False).head(50)"
   ]
  },
  {
   "cell_type": "code",
   "execution_count": 183,
   "metadata": {
    "scrolled": false
   },
   "outputs": [],
   "source": [
    "df1_top20_locations_top3_models=df1_top20_locations.groupby(['location','model'])\\\n",
    "                                .size().reset_index().rename(columns={0:'count'})"
   ]
  },
  {
   "cell_type": "code",
   "execution_count": 185,
   "metadata": {},
   "outputs": [],
   "source": [
    "df1_top20_locations_top3_models['ranking']=df1_top20_locations_top3_models\\\n",
    "                                           .groupby(['location'])['count']\\\n",
    "                                           .rank(\"dense\", ascending=False)"
   ]
  },
  {
   "cell_type": "code",
   "execution_count": 186,
   "metadata": {},
   "outputs": [],
   "source": [
    "df1_top20_locations_top3_models_sorted=df1_top20_locations_top3_models[df_temp['ranking'].isin([1,2,3])]"
   ]
  },
  {
   "cell_type": "code",
   "execution_count": 187,
   "metadata": {},
   "outputs": [],
   "source": [
    "df1_top20_locations_top3_models_sorted=df1_top20_locations_top3_models_sorted\\.drop([271,476,465,442,454,514,536,1006,1293,1592,1591,1631,1651,1700,1747,1689,2043]).head(60)"
   ]
  },
  {
   "cell_type": "code",
   "execution_count": 188,
   "metadata": {
    "scrolled": false
   },
   "outputs": [],
   "source": [
    "df1_top20_locations_top3_models_sorted=df1_top20_locations_top3_models_sorted\\\n",
    "                                       .pivot(index=\"location\", columns=\"ranking\",values=\"model\")"
   ]
  },
  {
   "cell_type": "code",
   "execution_count": 202,
   "metadata": {},
   "outputs": [
    {
     "data": {
      "text/html": [
       "<div>\n",
       "<style scoped>\n",
       "    .dataframe tbody tr th:only-of-type {\n",
       "        vertical-align: middle;\n",
       "    }\n",
       "\n",
       "    .dataframe tbody tr th {\n",
       "        vertical-align: top;\n",
       "    }\n",
       "\n",
       "    .dataframe thead th {\n",
       "        text-align: right;\n",
       "    }\n",
       "</style>\n",
       "<table border=\"1\" class=\"dataframe\">\n",
       "  <thead>\n",
       "    <tr style=\"text-align: right;\">\n",
       "      <th>ranking</th>\n",
       "      <th>1.0</th>\n",
       "      <th>2.0</th>\n",
       "      <th>3.0</th>\n",
       "    </tr>\n",
       "    <tr>\n",
       "      <th>location</th>\n",
       "      <th></th>\n",
       "      <th></th>\n",
       "      <th></th>\n",
       "    </tr>\n",
       "  </thead>\n",
       "  <tbody>\n",
       "    <tr>\n",
       "      <th>Brampton</th>\n",
       "      <td>Civic</td>\n",
       "      <td>Jetta</td>\n",
       "      <td>Rogue</td>\n",
       "    </tr>\n",
       "    <tr>\n",
       "      <th>Brantford</th>\n",
       "      <td>Rogue</td>\n",
       "      <td>Cruze</td>\n",
       "      <td>Corolla</td>\n",
       "    </tr>\n",
       "    <tr>\n",
       "      <th>Burlington</th>\n",
       "      <td>Santa</td>\n",
       "      <td>Grand</td>\n",
       "      <td>Rogue</td>\n",
       "    </tr>\n",
       "    <tr>\n",
       "      <th>Guelph</th>\n",
       "      <td>Fusion</td>\n",
       "      <td>Santa</td>\n",
       "      <td>Tucson</td>\n",
       "    </tr>\n",
       "    <tr>\n",
       "      <th>Hamilton</th>\n",
       "      <td>Elantra</td>\n",
       "      <td>1500</td>\n",
       "      <td>Tucson</td>\n",
       "    </tr>\n",
       "    <tr>\n",
       "      <th>Kingston</th>\n",
       "      <td>Escape</td>\n",
       "      <td>F-150</td>\n",
       "      <td>Cherokee</td>\n",
       "    </tr>\n",
       "    <tr>\n",
       "      <th>Kitchener</th>\n",
       "      <td>Elantra</td>\n",
       "      <td>Civic</td>\n",
       "      <td>Corolla</td>\n",
       "    </tr>\n",
       "    <tr>\n",
       "      <th>London</th>\n",
       "      <td>Civic</td>\n",
       "      <td>Escape</td>\n",
       "      <td>Corolla</td>\n",
       "    </tr>\n",
       "    <tr>\n",
       "      <th>Markham</th>\n",
       "      <td>Civic</td>\n",
       "      <td>RAV4</td>\n",
       "      <td>S60</td>\n",
       "    </tr>\n",
       "    <tr>\n",
       "      <th>Mississauga</th>\n",
       "      <td>Elantra</td>\n",
       "      <td>Rogue</td>\n",
       "      <td>Civic</td>\n",
       "    </tr>\n",
       "    <tr>\n",
       "      <th>NorthYork</th>\n",
       "      <td>Rover</td>\n",
       "      <td>Corolla</td>\n",
       "      <td>Rogue</td>\n",
       "    </tr>\n",
       "    <tr>\n",
       "      <th>Oakville</th>\n",
       "      <td>Grand</td>\n",
       "      <td>Civic</td>\n",
       "      <td>Rover</td>\n",
       "    </tr>\n",
       "    <tr>\n",
       "      <th>Ottawa</th>\n",
       "      <td>Grand</td>\n",
       "      <td>Elantra</td>\n",
       "      <td>Rogue</td>\n",
       "    </tr>\n",
       "    <tr>\n",
       "      <th>Scarborough</th>\n",
       "      <td>Civic</td>\n",
       "      <td>Grand</td>\n",
       "      <td>RAV4</td>\n",
       "    </tr>\n",
       "    <tr>\n",
       "      <th>St.Catharines</th>\n",
       "      <td>Civic</td>\n",
       "      <td>RAV4</td>\n",
       "      <td>Silverado</td>\n",
       "    </tr>\n",
       "    <tr>\n",
       "      <th>Thornhill</th>\n",
       "      <td>S60</td>\n",
       "      <td>Civic</td>\n",
       "      <td>CR-V</td>\n",
       "    </tr>\n",
       "    <tr>\n",
       "      <th>Toronto</th>\n",
       "      <td>Civic</td>\n",
       "      <td>CR-V</td>\n",
       "      <td>Corolla</td>\n",
       "    </tr>\n",
       "    <tr>\n",
       "      <th>Vaughan</th>\n",
       "      <td>Rover</td>\n",
       "      <td>Rogue</td>\n",
       "      <td>C-Class</td>\n",
       "    </tr>\n",
       "    <tr>\n",
       "      <th>Whitby</th>\n",
       "      <td>Civic</td>\n",
       "      <td>CR-V</td>\n",
       "      <td>Grand</td>\n",
       "    </tr>\n",
       "    <tr>\n",
       "      <th>Windsor</th>\n",
       "      <td>Rogue</td>\n",
       "      <td>Cruze</td>\n",
       "      <td>Escape</td>\n",
       "    </tr>\n",
       "  </tbody>\n",
       "</table>\n",
       "</div>"
      ],
      "text/plain": [
       "ranking            1.0      2.0        3.0\n",
       "location                                  \n",
       "Brampton         Civic    Jetta      Rogue\n",
       "Brantford        Rogue    Cruze    Corolla\n",
       "Burlington       Santa    Grand      Rogue\n",
       "Guelph          Fusion    Santa     Tucson\n",
       "Hamilton       Elantra     1500     Tucson\n",
       "Kingston        Escape    F-150   Cherokee\n",
       "Kitchener      Elantra    Civic    Corolla\n",
       "London           Civic   Escape    Corolla\n",
       "Markham          Civic     RAV4        S60\n",
       "Mississauga    Elantra    Rogue      Civic\n",
       "NorthYork        Rover  Corolla      Rogue\n",
       "Oakville         Grand    Civic      Rover\n",
       "Ottawa           Grand  Elantra      Rogue\n",
       "Scarborough      Civic    Grand       RAV4\n",
       "St.Catharines    Civic     RAV4  Silverado\n",
       "Thornhill          S60    Civic       CR-V\n",
       "Toronto          Civic     CR-V    Corolla\n",
       "Vaughan          Rover    Rogue    C-Class\n",
       "Whitby           Civic     CR-V      Grand\n",
       "Windsor          Rogue    Cruze     Escape"
      ]
     },
     "execution_count": 202,
     "metadata": {},
     "output_type": "execute_result"
    }
   ],
   "source": [
    "df1_top20_locations_top3_models_sorted"
   ]
  }
 ],
 "metadata": {
  "kernelspec": {
   "display_name": "Python 3",
   "language": "python",
   "name": "python3"
  },
  "language_info": {
   "codemirror_mode": {
    "name": "ipython",
    "version": 3
   },
   "file_extension": ".py",
   "mimetype": "text/x-python",
   "name": "python",
   "nbconvert_exporter": "python",
   "pygments_lexer": "ipython3",
   "version": "3.8.3"
  }
 },
 "nbformat": 4,
 "nbformat_minor": 4
}
